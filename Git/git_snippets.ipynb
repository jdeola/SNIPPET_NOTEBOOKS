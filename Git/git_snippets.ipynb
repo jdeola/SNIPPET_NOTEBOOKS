{
 "cells": [
  {
   "cell_type": "markdown",
   "metadata": {},
   "source": [
    "### List branches\n",
    "`git branch`\n",
    "\n",
    "### Delete local branch\n",
    "`git branch -d <branch_name>`\n",
    "\n",
    "### Delete remote branch\n",
    "`git push origin -d <branch_name>`\n",
    "- Deletes remote `origin/branch_name`\n",
    "- Alias `-D` for  delete —force"
   ]
  },
  {
   "cell_type": "markdown",
   "metadata": {},
   "source": [
    "### Git Rebase\n",
    "`cd <feature_branch>`\n",
    "\n",
    "`git rebase <base>`\n",
    "- take commits in your current working branch and apply them to the head of the passed branch.\n",
    "\n",
    "### Git Rebase interactive \n",
    "`git rebase --interactive <base>`\n",
    "### Merge into current branch and favor changes from current\n",
    "`git checkout master`\n",
    "\n",
    "`git merge <feature_branch>`\n",
    "- Note: git merge merges the specified branch into the currently active branch. So we need to be on the branch that we are merging into.\n",
    "\n",
    "### Merge into current branch but favor referenced branch\n",
    "`git merge -X theirs <feature_branch>`\n",
    "\n",
    "### Clone single branch from repo\n",
    "`git clone -b <branch_name> --single-branch git@github.com:jdeola/<repo_name>.git`"
   ]
  },
  {
   "cell_type": "markdown",
   "metadata": {},
   "source": [
    "### Renaming branches (recipe)\n",
    "- Git rename remote branch but keep local name\n",
    "\n",
    "`git push <remote> <remote>/<old_name>:refs/heads/<new_name> :<old_name>`\n",
    "\n",
    "- Rename the local branch to the new name\n",
    "\n",
    "`git branch -m <old_name> <new_name>`\n",
    "\n",
    "- Delete the old branch on remote - where <remote> is, for example, origin\n",
    "\n",
    "`git push <remote> --delete <old_name>`\n",
    "\n",
    "- Or shorter way to delete remote branch [:]\n",
    "\n",
    "`git push <remote> :<old_name>`\n",
    "\n",
    "- Prevent git from using the old name when pushing in the next step.\n",
    "- Otherwise, git will use the old upstream name instead of <new_name>\n",
    "\n",
    "`git branch --unset-upstream <new_name>`\n",
    "\n",
    "- Push the new branch to remote\n",
    "\n",
    "`git push <remote> <new_name>`\n",
    "\n",
    "- Reset the upstream branch for the new_name local branch\n",
    "\n",
    "`git push <remote> -u <new_name>`\n",
    "\n",
    "- Dont forget to unset the old upstream: \n",
    "\n",
    "`git checkout <new_name>` \n",
    "`git branch --unset-upstream `"
   ]
  },
  {
   "cell_type": "markdown",
   "metadata": {},
   "source": [
    "---\n",
    "### Compare two branches (2 methods)\n",
    "`git diff branch1..branch2`\n",
    "- will show you all the commits that “branch2” has that are not in “branch1”\n",
    "\n",
    "`git diff branch1...branch2`\n",
    "- Using “git diff” with three dots compares the top of the right branch (the HEAD) with the common ancestor of the two branches."
   ]
  },
  {
   "cell_type": "markdown",
   "metadata": {},
   "source": [
    "![](Screen%20Shot%202022-10-31%20at%205.15.56%20PM.png)"
   ]
  },
  {
   "cell_type": "markdown",
   "metadata": {},
   "source": [
    "![](Screen%20Shot%202022-10-31%20at%205.18.58%20PM.png)"
   ]
  },
  {
   "cell_type": "markdown",
   "metadata": {},
   "source": [
    "---\n",
    "### My repo ssh:\n",
    "git@github.com:jdeola/<repo_name>.git\n",
    "\n",
    "### Create new GitHub repo for new codebase (recipe)\n",
    "- mkdir my_project\n",
    "- cd my_project\n",
    "- touch .gitignore\n",
    "- git init\n",
    "- git add .\n",
    "- git commit -m \"Initial commit\"\n",
    "- git remote add origin youruser@yourserver.com:/path/to/my_project.git\n",
    "- git push origin master\n",
    "\n",
    "### Undo the last four commits, keep changes\n",
    "    * git reset HEAD ~ 4\n",
    "### Undo the last four commits, discard changes \n",
    "    * git reset --hard HEAD ~ 4\n",
    "### Exit git commit message\n",
    "    * After writing commit message, \n",
    "    * Esc + :wq or :wq! then Enter to close the unix file"
   ]
  }
 ],
 "metadata": {
  "kernelspec": {
   "display_name": "Python 3.9.14 64-bit",
   "language": "python",
   "name": "python3"
  },
  "language_info": {
   "name": "python",
   "version": "3.9.16"
  },
  "orig_nbformat": 4,
  "vscode": {
   "interpreter": {
    "hash": "a665b5d41d17b532ea9890333293a1b812fa0b73c9c25c950b3cedf1bebd0438"
   }
  }
 },
 "nbformat": 4,
 "nbformat_minor": 2
}
