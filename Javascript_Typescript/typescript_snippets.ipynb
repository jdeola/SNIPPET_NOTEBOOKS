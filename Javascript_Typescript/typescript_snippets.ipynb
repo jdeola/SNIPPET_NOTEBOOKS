{
 "cells": [
  {
   "cell_type": "markdown",
   "metadata": {},
   "source": [
    "# Typescript Snippets\n",
    "---"
   ]
  },
  {
   "cell_type": "markdown",
   "metadata": {},
   "source": [
    "## String replacement using TS \n",
    "helpful for managing type differences with PascalCase and snake_case "
   ]
  },
  {
   "cell_type": "code",
   "execution_count": null,
   "metadata": {},
   "outputs": [],
   "source": [
    "type StringReplace< \n",
    "  TString extends string, \n",
    "  TToReplace extends string, \n",
    "  TReplacement extends string \n",
    "> = TString extends `${infer TPrefix}${TToReplace}${infer TSuffix}` \n",
    "  ? `${TPrefix}${TReplacement}${StringReplace<\n",
    "    TSuffix, \n",
    "    TToReplace, \n",
    "    TReplacement\n",
    "    >}`\n",
    "  : TString;\n",
    "\n",
    "type Result = StringReplace<\"send_email_new\", \"_\", \"-\">;\n",
    "\n",
    "type CheckConditional = \"send_email\" extends `${infer TPrefix}${\"_\"}${infer TSuffix}`\n",
    "  ? [TPrefix, TSuffix]\n",
    "  : false;\n",
    "\n",
    "type CheckReplacement = \n",
    "  \"cool_something\" extends `${infer TPrefix}${\"_\"}${infer TSuffix}`\n",
    "    ? `${TPrefix}${\"-\"}${TSuffix}`\n",
    "    : \"cool_something\"\n"
   ]
  },
  {
   "cell_type": "markdown",
   "metadata": {},
   "source": [
    "---\n",
    "## Optional Properties - Alternative strategy \n",
    "### use Omit`<T,key>` instead of `?` \n",
    "Avoid making a property optional to support two separate scenarios; doing so reduces type safety"
   ]
  },
  {
   "cell_type": "code",
   "execution_count": null,
   "metadata": {
    "tags": []
   },
   "outputs": [],
   "source": [
    "type user = {\n",
    "\t// making id optinal since unsaved users don't have an id yet 👎\n",
    "\tid?: number;\n",
    "\tname: string;\n",
    "\temail: string;\n",
    "};\n",
    "\n",
    "// instead, declare separate types. Then each scenario is fully type safe 👍\n",
    "type User = {\n",
    "\tid: number;\n",
    "\tname: string;\n",
    "\temail: string;\n",
    "};\n",
    "\n",
    "// separate type for unsaved users\n",
    "// deriving from the User type via Omit to keep types clean and lean\n",
    "type UnsavedUser = Omit<User, 'id'>;"
   ]
  },
  {
   "cell_type": "markdown",
   "metadata": {},
   "source": [
    "---\n",
    "## Index Access Types\n",
    "### Deep access of arrays and objects"
   ]
  },
  {
   "cell_type": "code",
   "execution_count": null,
   "metadata": {},
   "outputs": [],
   "source": [
    "interface ColorVariants {\n",
    "    primary: 'blue'\n",
    "    secondary: 'red'\n",
    "    tertiary: 'green'\n",
    "}\n",
    "\n",
    "// use index access type 👍\n",
    "type PrimaryColor = ColorVariants['primary']\n",
    "\n",
    "// with unions\n",
    "type NonPrimaryColor = ColorVariants['secondary' | 'tertiary']\n",
    "// with bigger unions\n",
    "type EveryColor = ColorVariants[keyof ColorVariants]\n",
    "\n",
    "// array of letters\n",
    "type Letters = ['a', 'b', 'c']\n",
    "// just 'a' or 'b'\n",
    "type AorB = Letters [0 | 1];\n",
    "// union of all array elements\n",
    "type Letter = Letters[number]\n",
    "\n",
    "// here's the cool one 🚀\n",
    "interface UserRoleConfig {\n",
    "    user: ['view', 'create', 'update'];\n",
    "    superAdmin: ['view', 'create', 'update', 'delete'];\n",
    "}\n",
    "\n",
    "type Role = UserRoleConfig[keyof UserRoleConfig][number]"
   ]
  },
  {
   "cell_type": "markdown",
   "metadata": {},
   "source": [
    "If you're getting the TypeScript error\n",
    "\n",
    "'...expression of type string cannot be used to index...'\n",
    "\n",
    "then simply specify that the 'expression of type string' is a key of the type of that object. For example,\n",
    "\n",
    "```\n",
    "const someObj:ObjectType = data;\n",
    "const field = 'username';\n",
    "```\n",
    "\n",
    "// This gives an error\n",
    "\n",
    "```const temp = someObj[field];```\n",
    "\n",
    "// Solution 1: When the type of the object is known\n",
    "\n",
    "```const temp = someObj[field as keyof ObjectType]```\n",
    "\n",
    "// Solution 2: When the type of the object is not known\n",
    "\n",
    "```const temp = someObj[field as keyof typeof someObj]```"
   ]
  },
  {
   "cell_type": "markdown",
   "metadata": {},
   "source": [
    "---\n",
    "## Generics in React Components\n",
    "leverage generics to create flexible and dynamic components"
   ]
  },
  {
   "cell_type": "code",
   "execution_count": null,
   "metadata": {
    "tags": [
     "react"
    ]
   },
   "outputs": [],
   "source": [
    "import React from 'react'\n",
    "\n",
    "//* goal is to pass any items, and have the id of that \n",
    "//* item propagate through to 2nd (render) function\n",
    "\n",
    "interface TableProps<TItem> {\n",
    "    // items: {id: string}[]\n",
    "    items: TItem[]; // replaced with generic TItem\n",
    "    // renderItem: (item: {id: string}) => React.ReactNode\n",
    "    renderItem: (item: TItem) => React.ReactNode // replace with generic TItem\n",
    "}\n",
    "\n",
    "// need function syntax not arrow to avoid error\n",
    "export function Table<TItem>(props: TableProps<TItem>) {\n",
    "    return null;\n",
    "}\n",
    "\n",
    "const Component = () => {\n",
    "    return (\n",
    "        // <Table<{id: number}> // can manually specify the generic\n",
    "        <Table\n",
    "            items={[{ id: \"1\", name: 'Jim'}]}\n",
    "            renderItem={(item) => (<div>{item.id}</div>)}\n",
    "        ></Table>\n",
    "    )\n",
    "}"
   ]
  },
  {
   "attachments": {},
   "cell_type": "markdown",
   "metadata": {},
   "source": [
    "### Passing generics to types\n",
    "10 examples from https://www.youtube.com/embed/dLPgQRbVquo"
   ]
  },
  {
   "cell_type": "code",
   "execution_count": null,
   "metadata": {},
   "outputs": [],
   "source": [
    "// pass types to other types\n",
    "type MyGenericType<TData> = {\n",
    "  data: TData;\n",
    "}\n",
    "\n",
    "// type Example inherits type from the generic\n",
    "type Example = MyGenericType<{\n",
    "  firstName: string;\n",
    "}>\n",
    "\n",
    "type Example2 = MyGenericType<number>\n",
    "\n",
    "export {};"
   ]
  },
  {
   "attachments": {},
   "cell_type": "markdown",
   "metadata": {},
   "source": [
    "### Passing types to functions"
   ]
  },
  {
   "cell_type": "code",
   "execution_count": null,
   "metadata": {},
   "outputs": [],
   "source": [
    "// generic functions are funcs with a type helper mapped over the top, \n",
    "// which mapes the type to the return value\n",
    "\n",
    "const fetchSomething = <TData>(url:string): Promise<TData> => {\n",
    "  return fetch(url).then((res) => res.json());\n",
    "}\n",
    "\n",
    "fetchSomething<{firstName: string; lastName: string}>(\n",
    "  \"/api/endpoint\"\n",
    ").then((res) => {\n",
    "  console.log(res)\n",
    "})"
   ]
  },
  {
   "attachments": {},
   "cell_type": "markdown",
   "metadata": {},
   "source": [
    "### Passing types to Sets"
   ]
  },
  {
   "cell_type": "code",
   "execution_count": null,
   "metadata": {},
   "outputs": [],
   "source": [
    "//* pass type params to other JS stuff, like Sets and Maps\n",
    "\n",
    "const set = new Set<number>();\n",
    "\n",
    "set.add(1)\n",
    "\n",
    "set.add(\"some string\") //! errors due to generic type requiring number type\n"
   ]
  },
  {
   "attachments": {},
   "cell_type": "markdown",
   "metadata": {},
   "source": [
    "### Inferring types passed to functions"
   ]
  },
  {
   "cell_type": "code",
   "execution_count": null,
   "metadata": {},
   "outputs": [],
   "source": [
    "//* you don't always have to pass types to a generic function!\n",
    "\n",
    "const addIdToObject = <TObject>(obj: TObject) => {\n",
    "  return {\n",
    "    ...obj,\n",
    "    id: \"123\"\n",
    "  }\n",
    "}\n",
    "// types are inferred from func args\n",
    "const result = addIdToObject({\n",
    "  firstName: \"Jim\",\n",
    "  lastName: \"Deola\"\n",
    "});"
   ]
  },
  {
   "attachments": {},
   "cell_type": "markdown",
   "metadata": {},
   "source": [
    "### Generic Constraints ⭐️"
   ]
  },
  {
   "cell_type": "code",
   "execution_count": null,
   "metadata": {},
   "outputs": [],
   "source": [
    "//* ReturnType's type def expects a function\n",
    "// type GetPromiseReturnType<T> = Awaited<ReturnType<T>>;\n",
    "\n",
    "//* so, we add 'extends' to our generic type as a constraint as well \n",
    "type GetPromiseReturnType<T extends (...args: any) => any> = Awaited<ReturnType<T>>;\n",
    "//* Awaited used for async stuff like when using 'await'\n",
    "\n",
    "type MyResult = GetPromiseReturnType<\n",
    "  () => Promise<{\n",
    "    firstName: string;\n",
    "    lastname: string;\n",
    "  }>\n",
    ">\n",
    "\n",
    "type ErrorLine = GetPromiseReturnType<string> //! errors due to constraint"
   ]
  },
  {
   "attachments": {},
   "cell_type": "markdown",
   "metadata": {},
   "source": [
    "### Advanced Generic Constraints ⭐️"
   ]
  },
  {
   "cell_type": "code",
   "execution_count": null,
   "metadata": {},
   "outputs": [],
   "source": [
    "//* sometimes you need to contrain the generic that gets passed in\n",
    "\n",
    "//* we pass an object to function and returns an object with the key of the Tobj and value\n",
    "//* Record is type helper that gives you an object with dynamic keys (as string, here) AND specified value\n",
    "const getKeyWithHighestValue = <TObj extends Record<string, number>>(\n",
    "  obj: TObj\n",
    "): {\n",
    "  key: keyof TObj;\n",
    "  value: number;\n",
    "} => {\n",
    "  const keys = Object.keys(obj) as Array<keyof TObj>;\n",
    "\n",
    "  let highestKey: keyof TObj = keys[0];\n",
    "  let highestValue = obj[highestKey];\n",
    "\n",
    "  for (const key of keys) {\n",
    "    if (obj[key] > highestValue) {\n",
    "      highestKey = key;\n",
    "      highestValue = obj[key]\n",
    "    }\n",
    "  }\n",
    "    return {\n",
    "      key: highestKey,\n",
    "      value: highestValue\n",
    "    }\n",
    "};\n",
    "\n",
    "const finalResult = getKeyWithHighestValue({\n",
    "  a: 1,\n",
    "  b: 2,\n",
    "  c: 3\n",
    "});\n",
    "\n",
    "const key = finalResult.key;\n",
    "const value = finalResult.value;"
   ]
  },
  {
   "attachments": {},
   "cell_type": "markdown",
   "metadata": {},
   "source": [
    "### Overriding Generics"
   ]
  },
  {
   "cell_type": "code",
   "execution_count": null,
   "metadata": {},
   "outputs": [],
   "source": [
    "// use an assertion to override the expected type from the generic\n",
    "\n",
    "const typedObjectKeys = <TObj extends {}>(\n",
    "  obj: TObj\n",
    "): Array<keyof TObj> => { // ⬅️ can remove Array<keyof TObj>\n",
    "  // return Object.keys(obj) //! this errors bc TS can get confused with complex generics\n",
    "  return Object.keys(obj) as Array<keyof TObj>\n",
    "}\n",
    "\n",
    "const resultObj = typedObjectKeys({\n",
    "  name: \"Jim\",\n",
    "  age: 33\n",
    "});"
   ]
  },
  {
   "attachments": {},
   "cell_type": "markdown",
   "metadata": {},
   "source": [
    "### Multiple Generics ⭐️"
   ]
  },
  {
   "cell_type": "code",
   "execution_count": null,
   "metadata": {},
   "outputs": [],
   "source": [
    "//* we need to constrain TKey but still infer it\n",
    "const getValue1 = <TObj, TKey extends keyof TObj>(obj: TObj, key: TKey) => {\n",
    "  if (key === \"bad\") {\n",
    "    throw Error(\"Don't access the bad key!\")\n",
    "  }\n",
    "  return obj[key]\n",
    "}\n",
    "\n",
    "const resultValue = getValue1({\n",
    "  a: 1,\n",
    "  b: \"some string\"\n",
    "},\n",
    "\"b\"\n",
    ");\n",
    "\n",
    "console.log(resultValue);"
   ]
  },
  {
   "attachments": {},
   "cell_type": "markdown",
   "metadata": {},
   "source": [
    "### Default Generics"
   ]
  },
  {
   "cell_type": "code",
   "execution_count": null,
   "metadata": {},
   "outputs": [],
   "source": [
    "//* we add a default type to generic type T, \n",
    "//* since there are no function arguments to infer from\n",
    "\n",
    "const createSet = <T = string>() => {\n",
    "  return new Set<T>();\n",
    "}\n",
    "\n",
    "const numberSet = createSet<number>();\n",
    "const stringSet = createSet<string>();\n",
    "\n",
    "const otherStringSet =  createSet();"
   ]
  },
  {
   "attachments": {},
   "cell_type": "markdown",
   "metadata": {},
   "source": [
    "### use generics to infer from 3rd party libs"
   ]
  },
  {
   "cell_type": "code",
   "execution_count": null,
   "metadata": {},
   "outputs": [],
   "source": [
    "import {z} from \"zod\";\n",
    "//* using zod to set schema and validate types, we can provide safety at runtime\n",
    "\n",
    "const safeZodFetch = <TData>(\n",
    "  url: string,\n",
    "  schema: z.Schema<TData>    // z.Schema accepts type args\n",
    "): Promise<TData> => {\n",
    "  return fetch(url)\n",
    "    .then((res) => res.json())\n",
    "    .then(res => {\n",
    "    return schema.parse(res);\n",
    "  })\n",
    "};\n",
    "\n",
    "const safeZodFetchResult = safeZodFetch //<\n",
    "// {\n",
    "//   firstName: string; //* now we can remove these type args\n",
    "//   lastName: string;  //* and result will still be inferred safely on type and runtime levels\n",
    "// }\n",
    "//>\n",
    "(\n",
    "  \"/api/endpoint\",\n",
    "  z.object({\n",
    "    firstName: z.string(),\n",
    "    lastName: z.string()\n",
    "  })\n",
    ").then((res) => {\n",
    "  console.log(res);\n",
    "})\n",
    "\n",
    "//* Note: by grouping complex typescript 'stuff' in one place, \n",
    "//* we can often avoid needing it in our pure js functions that we use with it.   "
   ]
  },
  {
   "cell_type": "markdown",
   "metadata": {},
   "source": [
    "---\n",
    "## Turning a module into a type\n",
    "\n",
    "``` export type Action = \"ADD_TODO\" | \"REMOVE_TODO\" | \"EDIT_TODO\" ```\n",
    "\n",
    "This is a common pattern in older Redux applications. Now, we've actually got a constants.ts file which has all of the elements of the union. They're even inferred by TypeScript\n",
    "\n",
    "The exports are not actually inferred as strings. They're inferred as the literals \"ADD_TODO\", \"REMOVE_TODO\", and \"EDIT_TODO\".\n",
    "\n",
    "/constants.ts\n",
    "```\n",
    "export const ADD_TODO = \"ADD_TODO\"\n",
    "export const REMOVE_TODO = \"REMOVE_TODO\"\n",
    "export const EDIT_TODO = \"EDIT_TODO\"\n",
    "```\n",
    "\n",
    "So there must be a way that we can extract this information and create the union type dynamically. Because otherwise, whenever we add a new element in constants.ts, we've also got to add it to the new place. It's just not very DRY."
   ]
  },
  {
   "cell_type": "code",
   "execution_count": null,
   "metadata": {},
   "outputs": [],
   "source": [
    "export type Action1 = \"ADD_TODO\" | \"REMOVE_TODO\" | \"EDIT_TODO\"\n",
    "\n",
    "export type ActionModule = typeof import(\"./constants\") \n",
    "\n",
    "// create a union type out of the keys of ActionModule\n",
    "export type Action2 = ActionModule[keyof ActionModule]"
   ]
  },
  {
   "cell_type": "markdown",
   "metadata": {},
   "source": [
    "This takes the exported keys of the ActionModule, and it sort of iterates over them. So we end up with ADD_TODO, REMOVE_TODO, and EDIT_TODO which stays in sync with our actual code."
   ]
  },
  {
   "cell_type": "markdown",
   "metadata": {},
   "source": [
    "---\n",
    "### Fix Object Keys with `infer` and template literals\n"
   ]
  },
  {
   "cell_type": "code",
   "execution_count": null,
   "metadata": {},
   "outputs": [],
   "source": [
    "// how to remove unnecessary 'maps' from object keys\n",
    "interface ApiData {\n",
    "    'maps:longitude': string;\n",
    "    'maps:latitude': string;\n",
    "}\n",
    "\n",
    "type RemoveMapsFomObj<T> = {\n",
    "    [K in keyof T as RemoveMaps<K>]: T[K];\n",
    "};\n",
    "\n",
    "type DesiredShape = RemoveMapsFomObj<ApiData>\n",
    "// yields type DesiredShape = { longitude: string, latitude: string }\n",
    "\n",
    "type RemoveMaps<T> = T extends `maps:${infer U}` ? U : T"
   ]
  },
  {
   "cell_type": "markdown",
   "metadata": {},
   "source": [
    "---\n",
    "## Typesafe React Context"
   ]
  },
  {
   "cell_type": "code",
   "execution_count": null,
   "metadata": {
    "tags": [
     "react"
    ]
   },
   "outputs": [],
   "source": [
    "import react\n",
    "import { createContext, useContext} from \"react\"\n",
    "\n",
    "export interface UserContextType {\n",
    "    name: string;\n",
    "    age: number;\n",
    "}\n",
    "\n",
    "export const userContext = createContext<UserContextType | null>(null);\n",
    "\n",
    "export const useUserContext = () => {\n",
    "    const context = useContext(userContext);\n",
    "    // handle errors to \n",
    "    if (!context) {\n",
    "        throw new Error(\"useUserContext msut be used within a UserProvider!\")\n",
    "    }\n",
    "}\n"
   ]
  },
  {
   "cell_type": "markdown",
   "metadata": {},
   "source": [
    "---\n",
    "## Intersection Observer React Hook\n",
    "\n",
    "read more here\n",
    "https://betterprogramming.pub/react-useinview-hook-intersection-observer-animations-and-multiple-refs-73c68a33b5b1"
   ]
  },
  {
   "cell_type": "code",
   "execution_count": null,
   "metadata": {
    "tags": [
     "React"
    ]
   },
   "outputs": [],
   "source": [
    "\n",
    "import React, { useState, useEffect } from 'react';\n",
    "\n",
    "export function useInView(refs: React.RefObject<HTMLElement>[]) {\n",
    "  const [elements, setElements] = useState<{\n",
    "    [key: string]: { isInView: boolean };\n",
    "  }>({});\n",
    "\n",
    "  useEffect(() => {\n",
    "    const observerCallback = (entries: IntersectionObserverEntry[]) => {\n",
    "      entries.forEach((entry) => {\n",
    "        const name = entry.target.getAttribute('data-myProperty');\n",
    "        if (!name) {\n",
    "          console.warn(\n",
    "            'Encountered entry with no name. You should add data-myProperty to every element passed to the isInView hook.'\n",
    "          );\n",
    "        } else {\n",
    "          if (entry.isIntersecting) {\n",
    "            setElements((prev) => {\n",
    "              return {\n",
    "                ...prev,\n",
    "                [name]: {\n",
    "                  isInView: true,\n",
    "                },\n",
    "              };\n",
    "            });\n",
    "          } else {\n",
    "            setElements((prev) => ({\n",
    "              ...prev,\n",
    "              [name]: {\n",
    "                isInView: false,\n",
    "              },\n",
    "            }));\n",
    "          }\n",
    "        }\n",
    "      });\n",
    "    };\n",
    "\n",
    "    const observer = new IntersectionObserver(observerCallback);\n",
    "\n",
    "    refs.forEach((ref) => {\n",
    "      if (ref.current) {\n",
    "        observer.observe(ref.current);\n",
    "      }\n",
    "    });\n",
    "\n",
    "    return () => {\n",
    "      observer.disconnect();\n",
    "    };\n",
    "  }, []);\n",
    "\n",
    "  return elements;\n",
    "}"
   ]
  },
  {
   "attachments": {},
   "cell_type": "markdown",
   "metadata": {},
   "source": [
    "---\n",
    "### Type-Safe fetching with Zod\n",
    "https://twitter.com/mattpocockuk/status/1610948469488771074?s=12&t=Ua6guZt5woaom80XYXfdxQ"
   ]
  },
  {
   "cell_type": "code",
   "execution_count": null,
   "metadata": {},
   "outputs": [],
   "source": [
    "// client.ts\n",
    "\n",
    "// import type { RouteMap } from \"./server\";\n",
    "\n",
    "export const fetchFromBackend = <\n",
    "  TRoute extends keyof RouteMap\n",
    ">(\n",
    "  route: TRoute,\n",
    "  input: Parameters<RouteMap[TRoute]>[0]\n",
    ") => {\n",
    "  return fetch(route, {\n",
    "    method: \"POST\",\n",
    "    body: JSON.stringify(input),\n",
    "  }).then((res) => res.json()) as ReturnType<\n",
    "    RouteMap[TRoute]\n",
    "  >;\n",
    "};\n",
    "\n",
    "// makeTypeSafeApiCall.ts\n",
    "\n",
    "import { z } from \"zod\";\n",
    "\n",
    "type MaybePromise<T> = T | Promise<T>;\n",
    "\n",
    "export const makeTypeSafeApiCall = <TInput, TOutput>(\n",
    "  inputSchema: z.Schema<TInput>,\n",
    "  outputSchema: z.Schema<TOutput>,\n",
    "  handler: (input: TInput) => MaybePromise<TOutput>\n",
    "): ((input: TInput) => MaybePromise<TOutput>) => {\n",
    "  return async (input: unknown) => {\n",
    "    const result = await handler(inputSchema.parse(input));\n",
    "    return outputSchema.parse(result);\n",
    "  };\n",
    "};\n",
    "\n",
    "// server.ts\n",
    "\n",
    "// import { z } from \"zod\";\n",
    "// import { makeTypeSafeApiCall } from \"./makeTypeSafeApiCall\";\n",
    "\n",
    "export type RouteMap = {\n",
    "  \"/user/create\": typeof createUser;\n",
    "};\n",
    "\n",
    "export const createUser = makeTypeSafeApiCall(\n",
    "  z.object({\n",
    "    email: z.string(),\n",
    "  }),\n",
    "  z.object({\n",
    "    id: z.string(),\n",
    "    email: z.string(),\n",
    "  }),\n",
    "  async ({ email }) => {\n",
    "    return {\n",
    "      id: \"123\",\n",
    "      email,\n",
    "    };\n",
    "  }\n",
    ");"
   ]
  }
 ],
 "metadata": {
  "kernelspec": {
   "display_name": "Typescript 4.8",
   "language": "typescript",
   "name": "typescript"
  },
  "language_info": {
   "file_extension": ".ts",
   "mimetype": "application/x-typescript",
   "name": "typescript",
   "version": "4.8.4"
  },
  "orig_nbformat": 4,
  "vscode": {
   "interpreter": {
    "hash": "a665b5d41d17b532ea9890333293a1b812fa0b73c9c25c950b3cedf1bebd0438"
   }
  }
 },
 "nbformat": 4,
 "nbformat_minor": 2
}
