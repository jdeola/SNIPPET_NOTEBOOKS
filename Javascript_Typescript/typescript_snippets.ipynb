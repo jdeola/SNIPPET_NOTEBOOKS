{
 "cells": [
  {
   "cell_type": "markdown",
   "metadata": {},
   "source": [
    "# Typescript Snippets\n",
    "---"
   ]
  },
  {
   "cell_type": "markdown",
   "metadata": {},
   "source": [
    "## String replacement using TS \n",
    "helpful for managing type differences with PascalCase and snake_case "
   ]
  },
  {
   "cell_type": "code",
   "execution_count": null,
   "metadata": {},
   "outputs": [],
   "source": [
    "type StringReplace< \n",
    "  TString extends string, \n",
    "  TToReplace extends string, \n",
    "  TReplacement extends string \n",
    "> = TString extends `${infer TPrefix}${TToReplace}${infer TSuffix}` \n",
    "  ? `${TPrefix}${TReplacement}${StringReplace<\n",
    "    TSuffix, \n",
    "    TToReplace, \n",
    "    TReplacement\n",
    "    >}`\n",
    "  : TString;\n",
    "\n",
    "type Result = StringReplace<\"send_email_new\", \"_\", \"-\">;\n",
    "\n",
    "type CheckConditional = \"send_email\" extends `${infer TPrefix}${\"_\"}${infer TSuffix}`\n",
    "  ? [TPrefix, TSuffix]\n",
    "  : false;\n",
    "\n",
    "type CheckReplacement = \n",
    "  \"cool_something\" extends `${infer TPrefix}${\"_\"}${infer TSuffix}`\n",
    "    ? `${TPrefix}${\"-\"}${TSuffix}`\n",
    "    : \"cool_something\"\n"
   ]
  },
  {
   "cell_type": "markdown",
   "metadata": {},
   "source": [
    "---\n",
    "## Optional Properties - Alternative strategy \n",
    "### use Omit`<T,key>` instead of `?` \n",
    "Avoid making a property optional to support two separate scenarios; doing so reduces type safety"
   ]
  },
  {
   "cell_type": "code",
   "execution_count": null,
   "metadata": {
    "tags": []
   },
   "outputs": [],
   "source": [
    "type user = {\n",
    "\t// making id optinal since unsaved users don't have an id yet 👎\n",
    "\tid?: number;\n",
    "\tname: string;\n",
    "\temail: string;\n",
    "};\n",
    "\n",
    "// instead, declare separate types. Then each scenario is fully type safe 👍\n",
    "type User = {\n",
    "\tid: number;\n",
    "\tname: string;\n",
    "\temail: string;\n",
    "};\n",
    "\n",
    "// separate type for unsaved users\n",
    "// deriving from the User type via Omit to keep types clean and lean\n",
    "type UnsavedUser = Omit<User, 'id'>;"
   ]
  },
  {
   "cell_type": "markdown",
   "metadata": {},
   "source": [
    "---\n",
    "## Index Access Types\n",
    "### Deep access of arrays and objects"
   ]
  },
  {
   "cell_type": "code",
   "execution_count": null,
   "metadata": {},
   "outputs": [],
   "source": [
    "interface ColorVariants {\n",
    "    primary: 'blue'\n",
    "    secondary: 'red'\n",
    "    tertiary: 'green'\n",
    "}\n",
    "\n",
    "// use index access type 👍\n",
    "type PrimaryColor = ColorVariants['primary']\n",
    "\n",
    "// with unions\n",
    "type NonPrimaryColor = ColorVariants['secondary' | 'tertiary']\n",
    "// with bigger unions\n",
    "type EveryColor = ColorVariants[keyof ColorVariants]\n",
    "\n",
    "// array of letters\n",
    "type Letters = ['a', 'b', 'c']\n",
    "// just 'a' or 'b'\n",
    "type AorB = Letters [0 | 1];\n",
    "// union of all array elements\n",
    "type Letter = Letters[number]\n",
    "\n",
    "// here's the cool one 🚀\n",
    "interface UserRoleConfig {\n",
    "    user: ['view', 'create', 'update'];\n",
    "    superAdmin: ['view', 'create', 'update', 'delete'];\n",
    "}\n",
    "\n",
    "type Role = UserRoleConfig[keyof UserRoleConfig][number]"
   ]
  },
  {
   "cell_type": "markdown",
   "metadata": {},
   "source": [
    "If you're getting the TypeScript error\n",
    "\n",
    "'...expression of type string cannot be used to index...'\n",
    "\n",
    "then simply specify that the 'expression of type string' is a key of the type of that object. For example,\n",
    "\n",
    "```\n",
    "const someObj:ObjectType = data;\n",
    "const field = 'username';\n",
    "```\n",
    "\n",
    "// This gives an error\n",
    "\n",
    "```const temp = someObj[field];```\n",
    "\n",
    "// Solution 1: When the type of the object is known\n",
    "\n",
    "```const temp = someObj[field as keyof ObjectType]```\n",
    "\n",
    "// Solution 2: When the type of the object is not known\n",
    "\n",
    "```const temp = someObj[field as keyof typeof someObj]```"
   ]
  },
  {
   "attachments": {},
   "cell_type": "markdown",
   "metadata": {},
   "source": [
    "---\n",
    "## Generics \n",
    "\n",
    "leverage generics in React to create flexible and dynamic components"
   ]
  },
  {
   "cell_type": "code",
   "execution_count": null,
   "metadata": {
    "tags": [
     "react"
    ]
   },
   "outputs": [],
   "source": [
    "import React from 'react'\n",
    "//* goal is to pass any items, and have the id of that \n",
    "//* item propagate through to 2nd (render) function\n",
    "\n",
    "interface TableProps<TItem> {\n",
    "    // items: {id: string}[]\n",
    "    items: TItem[]; // replaced with generic TItem\n",
    "    // renderItem: (item: {id: string}) => React.ReactNode\n",
    "    renderItem: (item: TItem) => React.ReactNode // replace with generic TItem\n",
    "}\n",
    "\n",
    "// need function syntax not arrow to avoid error\n",
    "export function Table<TItem>(props: TableProps<TItem>) {\n",
    "    return null;\n",
    "}\n",
    "\n",
    "const Component = () => {\n",
    "    return (\n",
    "        // <Table<{id: number}> // can manually specify the generic\n",
    "        <Table\n",
    "            items={[{ id: \"1\", name: 'Jim'}]}\n",
    "            renderItem={(item) => (<div>{item.id}</div>)}\n",
    "        ></Table>\n",
    "    )\n",
    "}"
   ]
  },
  {
   "attachments": {},
   "cell_type": "markdown",
   "metadata": {},
   "source": [
    "### Passing generics to types\n",
    "10 examples from https://www.youtube.com/embed/dLPgQRbVquo"
   ]
  },
  {
   "cell_type": "code",
   "execution_count": null,
   "metadata": {},
   "outputs": [],
   "source": [
    "// pass types to other types\n",
    "type MyGenericType<TData> = {\n",
    "  data: TData;\n",
    "}\n",
    "\n",
    "// type Example inherits type from the generic\n",
    "type Example = MyGenericType<{\n",
    "  firstName: string;\n",
    "}>\n",
    "\n",
    "type Example2 = MyGenericType<number>\n",
    "\n",
    "export {};"
   ]
  },
  {
   "attachments": {},
   "cell_type": "markdown",
   "metadata": {},
   "source": [
    "### Passing types to functions"
   ]
  },
  {
   "cell_type": "code",
   "execution_count": null,
   "metadata": {},
   "outputs": [],
   "source": [
    "// generic functions are funcs with a type helper mapped over the top, \n",
    "// which mapes the type to the return value\n",
    "\n",
    "const fetchSomething = <TData>(url:string): Promise<TData> => {\n",
    "  return fetch(url).then((res) => res.json());\n",
    "}\n",
    "\n",
    "fetchSomething<{firstName: string; lastName: string}>(\n",
    "  \"/api/endpoint\"\n",
    ").then((res) => {\n",
    "  console.log(res)\n",
    "})"
   ]
  },
  {
   "attachments": {},
   "cell_type": "markdown",
   "metadata": {},
   "source": [
    "### Passing types to Sets"
   ]
  },
  {
   "cell_type": "code",
   "execution_count": null,
   "metadata": {},
   "outputs": [],
   "source": [
    "//* pass type params to other JS stuff, like Sets and Maps\n",
    "\n",
    "const set = new Set<number>();\n",
    "\n",
    "set.add(1)\n",
    "\n",
    "set.add(\"some string\") //! errors due to generic type requiring number type\n"
   ]
  },
  {
   "attachments": {},
   "cell_type": "markdown",
   "metadata": {},
   "source": [
    "### Inferring types passed to functions"
   ]
  },
  {
   "cell_type": "code",
   "execution_count": null,
   "metadata": {},
   "outputs": [],
   "source": [
    "//* you don't always have to pass types to a generic function!\n",
    "\n",
    "const addIdToObject = <TObject>(obj: TObject) => {\n",
    "  return {\n",
    "    ...obj,\n",
    "    id: \"123\"\n",
    "  }\n",
    "}\n",
    "// types are inferred from func args\n",
    "const result = addIdToObject({\n",
    "  firstName: \"Jim\",\n",
    "  lastName: \"Deola\"\n",
    "});"
   ]
  },
  {
   "attachments": {},
   "cell_type": "markdown",
   "metadata": {},
   "source": [
    "### Generic Constraints ⭐️"
   ]
  },
  {
   "cell_type": "code",
   "execution_count": null,
   "metadata": {},
   "outputs": [],
   "source": [
    "//* ReturnType's type def expects a function\n",
    "// type GetPromiseReturnType<T> = Awaited<ReturnType<T>>;\n",
    "\n",
    "//* so, we add 'extends' to our generic type as a constraint as well \n",
    "type GetPromiseReturnType<T extends (...args: any) => any> = Awaited<ReturnType<T>>;\n",
    "//* Awaited used for async stuff like when using 'await'\n",
    "\n",
    "type MyResult = GetPromiseReturnType<\n",
    "  () => Promise<{\n",
    "    firstName: string;\n",
    "    lastname: string;\n",
    "  }>\n",
    ">\n",
    "\n",
    "type ErrorLine = GetPromiseReturnType<string> //! errors due to constraint"
   ]
  },
  {
   "attachments": {},
   "cell_type": "markdown",
   "metadata": {},
   "source": [
    "### Advanced Generic Constraints ⭐️"
   ]
  },
  {
   "cell_type": "code",
   "execution_count": null,
   "metadata": {},
   "outputs": [],
   "source": [
    "//* sometimes you need to contrain the generic that gets passed in\n",
    "\n",
    "//* we pass an object to function and returns an object with the key of the Tobj and value\n",
    "//* Record is type helper that gives you an object with dynamic keys (as string, here) AND specified value\n",
    "const getKeyWithHighestValue = <TObj extends Record<string, number>>(\n",
    "  obj: TObj\n",
    "): {\n",
    "  key: keyof TObj;\n",
    "  value: number;\n",
    "} => {\n",
    "  const keys = Object.keys(obj) as Array<keyof TObj>;\n",
    "\n",
    "  let highestKey: keyof TObj = keys[0];\n",
    "  let highestValue = obj[highestKey];\n",
    "\n",
    "  for (const key of keys) {\n",
    "    if (obj[key] > highestValue) {\n",
    "      highestKey = key;\n",
    "      highestValue = obj[key]\n",
    "    }\n",
    "  }\n",
    "    return {\n",
    "      key: highestKey,\n",
    "      value: highestValue\n",
    "    }\n",
    "};\n",
    "\n",
    "const finalResult = getKeyWithHighestValue({\n",
    "  a: 1,\n",
    "  b: 2,\n",
    "  c: 3\n",
    "});\n",
    "\n",
    "const key = finalResult.key;\n",
    "const value = finalResult.value;\n",
    "\n",
    "console.log(key)"
   ]
  },
  {
   "attachments": {},
   "cell_type": "markdown",
   "metadata": {},
   "source": [
    "### Overriding Generics"
   ]
  },
  {
   "cell_type": "code",
   "execution_count": null,
   "metadata": {},
   "outputs": [],
   "source": [
    "// use an assertion to override the expected type from the generic\n",
    "\n",
    "const typedObjectKeys = <TObj extends {}>(\n",
    "  obj: TObj\n",
    "): Array<keyof TObj> => { // ⬅️ can remove Array<keyof TObj>\n",
    "  // return Object.keys(obj) //! this errors bc TS can get confused with complex generics\n",
    "  return Object.keys(obj) as Array<keyof TObj> // use 'as' keyword to override\n",
    "}\n",
    "\n",
    "const resultObj = typedObjectKeys({\n",
    "  name: \"Jim\",\n",
    "  age: 33\n",
    "});\n",
    "\n",
    "// written again, more concisely\n",
    "const objKeys = <T extends object>(obj: T) => {\n",
    "  return Object.keys(obj) as Array<keyof T>;\n",
    "}"
   ]
  },
  {
   "attachments": {},
   "cell_type": "markdown",
   "metadata": {},
   "source": [
    "### Multiple Generics ⭐️"
   ]
  },
  {
   "cell_type": "code",
   "execution_count": null,
   "metadata": {},
   "outputs": [],
   "source": [
    "//* we need to constrain TKey but still infer it\n",
    "const getValue1 = <TObj, TKey extends keyof TObj>(obj: TObj, key: TKey) => {\n",
    "  if (key === \"bad\") {\n",
    "    throw Error(\"Don't access the bad key!\")\n",
    "  }\n",
    "  return obj[key]\n",
    "}\n",
    "\n",
    "const resultValue = getValue1({\n",
    "  a: 1,\n",
    "  b: \"some string\"\n",
    "},\n",
    "\"b\"\n",
    ");\n",
    "\n",
    "console.log(resultValue);"
   ]
  },
  {
   "attachments": {},
   "cell_type": "markdown",
   "metadata": {},
   "source": [
    "### Default Generics"
   ]
  },
  {
   "cell_type": "code",
   "execution_count": null,
   "metadata": {},
   "outputs": [],
   "source": [
    "//* we add a default type to generic type T, \n",
    "//* since there are no function arguments to infer from\n",
    "\n",
    "const createSet = <T = string>() => {\n",
    "  return new Set<T>();\n",
    "}\n",
    "\n",
    "const numberSet = createSet<number>();\n",
    "const stringSet = createSet<string>();\n",
    "\n",
    "const otherStringSet =  createSet();"
   ]
  },
  {
   "attachments": {},
   "cell_type": "markdown",
   "metadata": {},
   "source": [
    "### use generics to infer from 3rd party libs"
   ]
  },
  {
   "cell_type": "code",
   "execution_count": null,
   "metadata": {},
   "outputs": [],
   "source": [
    "import {z} from \"zod\";\n",
    "//* using zod to set schema and validate types, we can provide safety at runtime\n",
    "\n",
    "const safeZodFetch = <TData>(\n",
    "  url: string,\n",
    "  schema: z.Schema<TData>    // z.Schema accepts type args\n",
    "): Promise<TData> => {\n",
    "  return fetch(url)\n",
    "    .then((res) => res.json())\n",
    "    .then(res => {\n",
    "    return schema.parse(res);\n",
    "  })\n",
    "};\n",
    "\n",
    "const safeZodFetchResult = safeZodFetch //<\n",
    "// {\n",
    "//   firstName: string; //* now we can remove these type args\n",
    "//   lastName: string;  //* and result will still be inferred safely on type and runtime levels\n",
    "// }\n",
    "//>\n",
    "(\n",
    "  \"/api/endpoint\",\n",
    "  z.object({\n",
    "    firstName: z.string(),\n",
    "    lastName: z.string()\n",
    "  })\n",
    ").then((res) => {\n",
    "  console.log(res);\n",
    "})\n",
    "\n",
    "//* Note: by grouping complex typescript 'stuff' in one place, \n",
    "//* we can often avoid needing it in our pure js functions that we use with it.   "
   ]
  },
  {
   "cell_type": "markdown",
   "metadata": {},
   "source": [
    "---\n",
    "## Turning a module into a type\n",
    "\n",
    "``` export type Action = \"ADD_TODO\" | \"REMOVE_TODO\" | \"EDIT_TODO\" ```\n",
    "\n",
    "This is a common pattern in older Redux applications. Now, we've actually got a constants.ts file which has all of the elements of the union. They're even inferred by TypeScript\n",
    "\n",
    "The exports are not actually inferred as strings. They're inferred as the literals \"ADD_TODO\", \"REMOVE_TODO\", and \"EDIT_TODO\".\n",
    "\n",
    "/constants.ts\n",
    "```\n",
    "export const ADD_TODO = \"ADD_TODO\"\n",
    "export const REMOVE_TODO = \"REMOVE_TODO\"\n",
    "export const EDIT_TODO = \"EDIT_TODO\"\n",
    "```\n",
    "\n",
    "So there must be a way that we can extract this information and create the union type dynamically. Because otherwise, whenever we add a new element in constants.ts, we've also got to add it to the new place. It's just not very DRY."
   ]
  },
  {
   "cell_type": "code",
   "execution_count": null,
   "metadata": {},
   "outputs": [],
   "source": [
    "export type Action1 = \"ADD_TODO\" | \"REMOVE_TODO\" | \"EDIT_TODO\"\n",
    "\n",
    "export type ActionModule = typeof import(\"./constants\") \n",
    "\n",
    "// create a union type out of the keys of ActionModule\n",
    "export type Action2 = ActionModule[keyof ActionModule]"
   ]
  },
  {
   "cell_type": "markdown",
   "metadata": {},
   "source": [
    "This takes the exported keys of the ActionModule, and it sort of iterates over them. So we end up with ADD_TODO, REMOVE_TODO, and EDIT_TODO which stays in sync with our actual code."
   ]
  },
  {
   "cell_type": "markdown",
   "metadata": {},
   "source": [
    "---\n",
    "### Fix Object Keys with `infer` and template literals\n"
   ]
  },
  {
   "cell_type": "code",
   "execution_count": null,
   "metadata": {},
   "outputs": [],
   "source": [
    "// how to remove unnecessary 'maps' from object keys\n",
    "interface ApiData {\n",
    "    'maps:longitude': string;\n",
    "    'maps:latitude': string;\n",
    "}\n",
    "\n",
    "type RemoveMapsFomObj<T> = {\n",
    "    [K in keyof T as RemoveMaps<K>]: T[K];\n",
    "};\n",
    "\n",
    "type DesiredShape = RemoveMapsFomObj<ApiData>\n",
    "// yields type DesiredShape = { longitude: string, latitude: string }\n",
    "\n",
    "type RemoveMaps<T> = T extends `maps:${infer U}` ? U : T"
   ]
  },
  {
   "cell_type": "markdown",
   "metadata": {},
   "source": [
    "---\n",
    "## Typesafe React Context"
   ]
  },
  {
   "cell_type": "code",
   "execution_count": null,
   "metadata": {
    "tags": [
     "react"
    ]
   },
   "outputs": [],
   "source": [
    "import react\n",
    "import { createContext, useContext} from \"react\"\n",
    "\n",
    "export interface UserContextType {\n",
    "    name: string;\n",
    "    age: number;\n",
    "}\n",
    "\n",
    "export const userContext = createContext<UserContextType | null>(null);\n",
    "\n",
    "export const useUserContext = () => {\n",
    "    const context = useContext(userContext);\n",
    "    // handle errors to \n",
    "    if (!context) {\n",
    "        throw new Error(\"useUserContext msut be used within a UserProvider!\")\n",
    "    }\n",
    "}\n"
   ]
  },
  {
   "cell_type": "markdown",
   "metadata": {},
   "source": [
    "---\n",
    "## Intersection Observer React Hook\n",
    "\n",
    "read more here\n",
    "https://betterprogramming.pub/react-useinview-hook-intersection-observer-animations-and-multiple-refs-73c68a33b5b1"
   ]
  },
  {
   "cell_type": "code",
   "execution_count": null,
   "metadata": {
    "tags": [
     "React"
    ]
   },
   "outputs": [],
   "source": [
    "\n",
    "import React, { useState, useEffect } from 'react';\n",
    "\n",
    "export function useInView(refs: React.RefObject<HTMLElement>[]) {\n",
    "  const [elements, setElements] = useState<{\n",
    "    [key: string]: { isInView: boolean };\n",
    "  }>({});\n",
    "\n",
    "  useEffect(() => {\n",
    "    const observerCallback = (entries: IntersectionObserverEntry[]) => {\n",
    "      entries.forEach((entry) => {\n",
    "        const name = entry.target.getAttribute('data-myProperty');\n",
    "        if (!name) {\n",
    "          console.warn(\n",
    "            'Encountered entry with no name. You should add data-myProperty to every element passed to the isInView hook.'\n",
    "          );\n",
    "        } else {\n",
    "          if (entry.isIntersecting) {\n",
    "            setElements((prev) => {\n",
    "              return {\n",
    "                ...prev,\n",
    "                [name]: {\n",
    "                  isInView: true,\n",
    "                },\n",
    "              };\n",
    "            });\n",
    "          } else {\n",
    "            setElements((prev) => ({\n",
    "              ...prev,\n",
    "              [name]: {\n",
    "                isInView: false,\n",
    "              },\n",
    "            }));\n",
    "          }\n",
    "        }\n",
    "      });\n",
    "    };\n",
    "\n",
    "    const observer = new IntersectionObserver(observerCallback);\n",
    "\n",
    "    refs.forEach((ref) => {\n",
    "      if (ref.current) {\n",
    "        observer.observe(ref.current);\n",
    "      }\n",
    "    });\n",
    "\n",
    "    return () => {\n",
    "      observer.disconnect();\n",
    "    };\n",
    "  }, []);\n",
    "\n",
    "  return elements;\n",
    "}"
   ]
  },
  {
   "attachments": {},
   "cell_type": "markdown",
   "metadata": {},
   "source": [
    "---\n",
    "### Type-Safe fetching with Zod\n",
    "https://twitter.com/mattpocockuk/status/1610948469488771074?s=12&t=Ua6guZt5woaom80XYXfdxQ"
   ]
  },
  {
   "cell_type": "code",
   "execution_count": null,
   "metadata": {},
   "outputs": [],
   "source": [
    "// client.ts\n",
    "\n",
    "// import type { RouteMap } from \"./server\";\n",
    "\n",
    "export const fetchFromBackend = <\n",
    "  TRoute extends keyof RouteMap\n",
    ">(\n",
    "  route: TRoute,\n",
    "  input: Parameters<RouteMap[TRoute]>[0]\n",
    ") => {\n",
    "  return fetch(route, {\n",
    "    method: \"POST\",\n",
    "    body: JSON.stringify(input),\n",
    "  }).then((res) => res.json()) as ReturnType<\n",
    "    RouteMap[TRoute]\n",
    "  >;\n",
    "};\n",
    "\n",
    "// makeTypeSafeApiCall.ts\n",
    "\n",
    "import { z } from \"zod\";\n",
    "\n",
    "type MaybePromise<T> = T | Promise<T>;\n",
    "\n",
    "export const makeTypeSafeApiCall = <TInput, TOutput>(\n",
    "  inputSchema: z.Schema<TInput>,\n",
    "  outputSchema: z.Schema<TOutput>,\n",
    "  handler: (input: TInput) => MaybePromise<TOutput>\n",
    "): ((input: TInput) => MaybePromise<TOutput>) => {\n",
    "  return async (input: unknown) => {\n",
    "    const result = await handler(inputSchema.parse(input));\n",
    "    return outputSchema.parse(result);\n",
    "  };\n",
    "};\n",
    "\n",
    "// server.ts\n",
    "\n",
    "// import { z } from \"zod\";\n",
    "// import { makeTypeSafeApiCall } from \"./makeTypeSafeApiCall\";\n",
    "\n",
    "export type RouteMap = {\n",
    "  \"/user/create\": typeof createUser;\n",
    "};\n",
    "\n",
    "export const createUser = makeTypeSafeApiCall(\n",
    "  z.object({\n",
    "    email: z.string(),\n",
    "  }),\n",
    "  z.object({\n",
    "    id: z.string(),\n",
    "    email: z.string(),\n",
    "  }),\n",
    "  async ({ email }) => {\n",
    "    return {\n",
    "      id: \"123\",\n",
    "      email,\n",
    "    };\n",
    "  }\n",
    ");"
   ]
  },
  {
   "attachments": {},
   "cell_type": "markdown",
   "metadata": {},
   "source": [
    "---\n",
    "### Enums @ compile time\n",
    "\n",
    "Even though Enums are real objects that exist at runtime, the keyof keyword works differently than you might expect for typical objects. Instead, use keyof typeof to get a Type that represents all Enum keys as strings."
   ]
  },
  {
   "cell_type": "code",
   "execution_count": null,
   "metadata": {},
   "outputs": [],
   "source": [
    "enum LogLevel {\n",
    "  ERROR,\n",
    "  WARN,\n",
    "  INFO,\n",
    "  DEBUG,\n",
    "}\n",
    " \n",
    "/**\n",
    " * This is equivalent to:\n",
    " * type LogLevelStrings = 'ERROR' | 'WARN' | 'INFO' | 'DEBUG';\n",
    " */\n",
    "type LogLevelStrings = keyof typeof LogLevel;\n",
    " \n",
    "function printImportant(key: LogLevelStrings, message: string) {\n",
    "  const num = LogLevel[key];\n",
    "  if (num <= LogLevel.WARN) {\n",
    "    console.log(\"Log level key is:\", key);\n",
    "    console.log(\"Log level value is:\", num);\n",
    "    console.log(\"Log level message is:\", message);\n",
    "  }\n",
    "}\n",
    "printImportant(\"ERROR\", \"This is a message\");"
   ]
  },
  {
   "attachments": {},
   "cell_type": "markdown",
   "metadata": {},
   "source": [
    "### Objects vs Enums\n",
    "In modern TypeScript, you may not need an enum when an object with as const could suffice:"
   ]
  },
  {
   "cell_type": "code",
   "execution_count": null,
   "metadata": {},
   "outputs": [],
   "source": [
    "const enum EDirection {\n",
    "  Up,\n",
    "  Down,\n",
    "  Left,\n",
    "  Right,\n",
    "}\n",
    " \n",
    "const ODirection = {\n",
    "  Up: 0,\n",
    "  Down: 1,\n",
    "  Left: 2,\n",
    "  Right: 3,\n",
    "} as const;\n",
    " \n",
    "EDirection.Up;\n",
    "           // (enum member) EDirection.Up = 0\n",
    " \n",
    "ODirection.Up;\n",
    "           // (property) Up: 0\n",
    " \n",
    "// Using the enum as a parameter\n",
    "function walk(dir: EDirection) {}\n",
    " \n",
    "// It requires an extra line to pull out the values\n",
    "type Direction = typeof ODirection[keyof typeof ODirection];\n",
    "function run(dir: Direction) {}\n",
    " \n",
    "walk(EDirection.Left);\n",
    "run(ODirection.Right);"
   ]
  },
  {
   "attachments": {},
   "cell_type": "markdown",
   "metadata": {},
   "source": [
    "---\n",
    "Generic Types in React component\n",
    "\n",
    "https://www.totaltypescript.com/tips/use-generics-in-react-to-make-dynamic-and-flexible-components"
   ]
  },
  {
   "cell_type": "code",
   "execution_count": null,
   "metadata": {},
   "outputs": [],
   "source": [
    "import * as React from 'react';\n",
    "\n",
    "// takes type of TItem and passes it it's render function\n",
    "interface TableProps<TItem> {\n",
    "  items:TItem[];\n",
    "  renderItem: (item:TItem) => React.ReactNode;\n",
    "}\n",
    "\n",
    "//must be function component not arrow\n",
    "export function Table<TItem>(props: TableProps<TItem>) {\n",
    "  return null;\n",
    "}\n",
    "\n",
    "const component = () => {\n",
    "  return (\n",
    "    <Table<{id:number}> \n",
    "      items={[\n",
    "        {id: 1,\n",
    "        name: 'jim'},\n",
    "      ]}\n",
    "      renderItem={(item)=> <div>{item.id}</div>}\n",
    "      ></Table>\n",
    "  )\n",
    "}"
   ]
  },
  {
   "attachments": {},
   "cell_type": "markdown",
   "metadata": {},
   "source": [
    "---\n",
    "### Declare Globals \n",
    "\n",
    "Example with with common reducer pattern ie redux"
   ]
  },
  {
   "cell_type": "code",
   "execution_count": null,
   "metadata": {},
   "outputs": [],
   "source": [
    "// /types.ts\n",
    "declare global {\n",
    "  interface GlobalReducerEvent {\n",
    "    LOG_IN: {};\n",
    "  }\n",
    "}\n",
    "\n",
    "export type GlobalReducer<TState> = (\n",
    "  state: TState,\n",
    "  event: {\n",
    "    [EventType in keyof GlobalReducerEvent]: {\n",
    "      type: EventType;\n",
    "    } & GlobalReducerEvent[EventType];\n",
    "  }[keyof GlobalReducerEvent]\n",
    ") => TState;\n",
    "\n",
    "// /reducer.ts\n",
    "\n",
    "declare global {\n",
    "  interface GlobalReducerEvent {\n",
    "    ADD_TODO: { text: string }\n",
    "  }\n",
    "}\n",
    "\n",
    "export const todosReducer: GlobalReducer<{ todos: { id: string }[] }> = (\n",
    "  state,\n",
    "  event\n",
    ") => {\n",
    "  // event.type === 'LOG_IN'\n",
    "  // event.type = 'ADD_TODO'\n",
    "  return state\n",
    "}\n",
    "\n",
    "export const userReducer: GlobalReducer<{ id: string }> = (\n",
    "  state,\n",
    "  event\n",
    ") => {\n",
    "  // event.type === 'LOG_IN'\n",
    "  // event.type === 'ADD_TODO'\n",
    "  return state\n",
    "}"
   ]
  },
  {
   "attachments": {},
   "cell_type": "markdown",
   "metadata": {},
   "source": [
    "---\n",
    "### Components as=\"...\"\n"
   ]
  },
  {
   "cell_type": "code",
   "execution_count": null,
   "metadata": {
    "tags": [
     "React"
    ]
   },
   "outputs": [],
   "source": [
    "import React, { ComponentProps, JSXElementConstructor } from \"react\";\n",
    "\n",
    "export const Component = <\n",
    "  T extends keyof JSX.IntrinsicElements | JSXElementConstructor<any>,\n",
    ">(\n",
    "  props: {\n",
    "    as: T;\n",
    "  } & ComponentProps<T>,\n",
    ") => {\n",
    "  const Comp = props.as;\n",
    "  return <Comp {...(props as any)}></Comp>;\n",
    "};\n",
    "\n",
    "const Link = (props: { href: string; children?: React.ReactNode }) => {\n",
    "  return <a href={props.href}>{props.children}</a>;\n",
    "};\n",
    "\n",
    "const yeah = <Component as={Link} href=\"awdawd\"></Component>;"
   ]
  },
  {
   "cell_type": "code",
   "execution_count": null,
   "metadata": {},
   "outputs": [],
   "source": [
    "export const Component = <TAs extends keyof JSX.IntrinsicElements>(\n",
    "  props: {\n",
    "    as: TAs;\n",
    "  } & JSX.IntrinsicElements[TAs],\n",
    ") => {\n",
    "  const Comp = props.as as string;\n",
    "  return <Comp {...(props as any)}></Comp>;\n",
    "}"
   ]
  },
  {
   "attachments": {},
   "cell_type": "markdown",
   "metadata": {},
   "source": [
    "---\n",
    "### TS + React Patterns\n",
    "#### Adapter Pattern for handling heterogeneous types\n",
    "\n",
    "more info: https://itnext.io/top-5-react-typescript-design-patterns-to-boost-your-skills-to-the-next-level-5b5f54dd934f#a542\n",
    "\n",
    "The Adapter Pattern is a design pattern that allows two incompatible interfaces to work together. In React, this pattern can be used to adapt an existing component to work with a different data source or API.\n",
    "\n",
    "Suppose you have a React application that fetches data from an API using the Axios library. However, for some reason, you need to switch to using the Fetch API instead of Axios. Unfortunately, the Fetch API has a different interface than Axios, which means you’ll need to rewrite all the API calls in your codebase to use the Fetch API.\n",
    "\n",
    "Instead of rewriting all the API calls, you can use the Adapter Pattern to create an adapter that adapts the Fetch API to the same interface as Axios. You can create a fetchAdapter that takes the same arguments and returns the same shape of data as Axios. This way, you can minimize the amount of code you need to change and reduce the risk of bugs"
   ]
  },
  {
   "cell_type": "code",
   "execution_count": null,
   "metadata": {
    "tags": [
     "React",
     "Axios"
    ]
   },
   "outputs": [],
   "source": [
    "interface AxiosResponse<T = any> {\n",
    "  data: T;\n",
    "}\n",
    "\n",
    "interface AxiosError<T = any> extends Error {\n",
    "  response: AxiosResponse<T>;\n",
    "}\n",
    "\n",
    "interface AxiosInstance {\n",
    "  get<T = any>(url: string, config?: any): Promise<AxiosResponse<T>>;\n",
    "  post<T = any>(\n",
    "    url: string,\n",
    "    data?: any,\n",
    "    config?: any\n",
    "  ): Promise<AxiosResponse<T>>;\n",
    "  // and other methods as needed\n",
    "}\n",
    "\n",
    "interface FetchAdapter {\n",
    "  get<T = any>(url: string, config?: any): Promise<AxiosResponse<T>>;\n",
    "  post<T = any>(\n",
    "    url: string,\n",
    "    data?: any,\n",
    "    config?: any\n",
    "  ): Promise<AxiosResponse<T>>;\n",
    "  // and other methods as needed\n",
    "}\n",
    "\n",
    "const fetchAdapter: FetchAdapter = {\n",
    "  get: async <T = any>(url: string, config?: any) => {\n",
    "    const response = await fetch(url, config);\n",
    "    const data = await response.json();\n",
    "    return { data };\n",
    "  },\n",
    "  post: async <T = any>(url: string, data?: any, config?: any) => {\n",
    "    const response = await fetch(url, {\n",
    "      method: 'POST',\n",
    "      headers: {\n",
    "        'Content-Type': 'application/json',\n",
    "      },\n",
    "      body: JSON.stringify(data),\n",
    "      ...config,\n",
    "    });\n",
    "    const responseData = await response.json();\n",
    "    return { data: responseData };\n",
    "  },\n",
    "  // and other methods as needed\n",
    "};\n",
    "\n",
    "// Usage example\n",
    "const axiosInstance: AxiosInstance = {\n",
    "  get: async (url: string, config?: any) => {\n",
    "    try {\n",
    "      const response = await fetchAdapter.get(url, config);\n",
    "      return response;\n",
    "    } catch (error) {\n",
    "      const axiosError: AxiosError = new Error();\n",
    "      axiosError.response = error.response;\n",
    "      throw axiosError;\n",
    "    }\n",
    "  },\n",
    "  post: async (url: string, data?: any, config?: any) => {\n",
    "    try {\n",
    "      const response = await fetchAdapter.post(url, data, config);\n",
    "      return response;\n",
    "    } catch (error) {\n",
    "      const axiosError: AxiosError = new Error();\n",
    "      axiosError.response = error.response;\n",
    "      throw axiosError;\n",
    "    }\n",
    "  },\n",
    "  // and other methods as needed\n",
    "};"
   ]
  },
  {
   "attachments": {},
   "cell_type": "markdown",
   "metadata": {},
   "source": [
    "In this example, we define an interface AxiosInstance that describes the interface of Axios. We also define an interface FetchAdapter that describes the interface we want to use for the Fetch API. We then define an object fetchAdapter that implements the FetchAdapter interface by adapting the Fetch API to the Axios interface. Finally, we create an instance of AxiosInstance that uses the fetchAdapter to make API calls."
   ]
  },
  {
   "attachments": {},
   "cell_type": "markdown",
   "metadata": {},
   "source": [
    "#### Facade Pattern for encapsulating complex components\n",
    "\n",
    "The Facade Pattern is a design pattern that provides a simplified interface to a complex system. In React, this pattern can be used to create a simpler API for complex components, making it easier for other developers to use those components.\n",
    "\n",
    "Suppose you have a complex API that fetches data from multiple sources and aggregates it to display a chart. The API has several methods, each with multiple parameters, and requires a lot of configuration to work correctly.\n",
    "\n",
    "To make it easier for other developers to use this API, you can create a Facade component that provides a simplified interface. The Facade component can handle all the complexity behind the scenes and expose a simple, easy-to-use API for other components to consume."
   ]
  },
  {
   "cell_type": "code",
   "execution_count": null,
   "metadata": {
    "tags": [
     "React"
    ]
   },
   "outputs": [],
   "source": [
    "import React, { useState, useEffect } from 'react';\n",
    "import ChartApi from './ChartApi';\n",
    "\n",
    "type FacadeProps = {\n",
    "  chartType: string;\n",
    "  dataUrl: string;\n",
    "  width: number;\n",
    "  height: number;\n",
    "};\n",
    "\n",
    "const ChartFacade: React.FC<FacadeProps> = ({\n",
    "  chartType,\n",
    "  dataUrl,\n",
    "  width,\n",
    "  height,\n",
    "}) => {\n",
    "  const [data, setData] = useState([]);\n",
    "\n",
    "  useEffect(() => {\n",
    "    const fetchData = async () => {\n",
    "      const chartApi = new ChartApi();\n",
    "      const rawData = await chartApi.fetchData(dataUrl);\n",
    "      const chartData = chartApi.processData(rawData);\n",
    "      setData(chartData);\n",
    "    };\n",
    "    fetchData();\n",
    "  }, [dataUrl]);\n",
    "\n",
    "  return <Chart type={chartType} data={data} width={width} height={height} />;\n",
    "};\n",
    "\n",
    "export default ChartFacade;"
   ]
  },
  {
   "attachments": {},
   "cell_type": "markdown",
   "metadata": {},
   "source": [
    "---\n",
    "### Generic Compound React Component\n",
    "https://codesandbox.io/embed/young-dream-ihjcq3?file=/src/App.tsx&codemirror=1"
   ]
  },
  {
   "cell_type": "code",
   "execution_count": null,
   "metadata": {},
   "outputs": [],
   "source": [
    "import React from \"react\";\n",
    "import \"./styles.css\";\n",
    "\n",
    "type Fruit = \"apple\" | \"banana\";\n",
    "\n",
    "// set of components that share the same API\n",
    "type FruitProps = {\n",
    "  name: Fruit;\n",
    "};\n",
    "\n",
    "const COMPONENTS: Record<Fruit, React.ComponentType<FruitProps>> = {\n",
    "  apple: ({ name }) => <div>{name}: 🍏</div>,\n",
    "  banana: ({ name }) => <div>{name}: 🍌</div>\n",
    "};\n",
    "\n",
    "export default function App() {\n",
    "  const [fruit, setFruit] = React.useState<Fruit>(\"apple\");\n",
    "  const FruitComponent = COMPONENTS[fruit];\n",
    "  return (\n",
    "    <div>\n",
    "      <FruitComponent name={fruit} />\n",
    "      <button\n",
    "        onClick={() => {\n",
    "          setFruit((fruit) => (fruit === \"apple\" ? \"banana\" : \"apple\"));\n",
    "        }}\n",
    "      >\n",
    "        toggle\n",
    "      </button>\n",
    "    </div>\n",
    "  );\n",
    "}"
   ]
  },
  {
   "attachments": {},
   "cell_type": "markdown",
   "metadata": {},
   "source": [
    "---\n",
    "### Obtaining keys of deeply nest object\n",
    "\n",
    "only works for objects with a finite depth. If we have an object with an infinite depth, such as an object that contains a reference to itself, the type definition will result in a stack overflow error."
   ]
  },
  {
   "cell_type": "code",
   "execution_count": null,
   "metadata": {},
   "outputs": [],
   "source": [
    "const obj = {\n",
    "  a: {\n",
    "    b: 1,\n",
    "    c: {\n",
    "      d: 2,\n",
    "      e: 3,\n",
    "    },\n",
    "  },\n",
    "  f: {\n",
    "    g: 4,\n",
    "  },\n",
    "  h: undefined,\n",
    "};\n",
    "\n",
    "type DeepKeys<T> = T extends object\n",
    "  ? {\n",
    "      [K in keyof T]-?: K extends string | number\n",
    "        ? `${K}` | `${K}.${DeepKeys<T[K]>}`\n",
    "        : never;\n",
    "    }[keyof T]\n",
    "  : never;\n",
    "\n",
    "function getAllKeys<T extends object>(obj: T): DeepKeys<T>[] {\n",
    "  return Object.keys(obj) as DeepKeys<T>[];\n",
    "}\n",
    "\n",
    "const keys = getAllKeys(obj);\n",
    "console.log(keys); // [\"a\" | \"f\" | \"h\" | \"a.b\" | \"a.c\" | \"a.c.d\" | \"a.c.e\" | \"f.g\"]"
   ]
  }
 ],
 "metadata": {
  "kernelspec": {
   "display_name": "Typescript 4.8",
   "language": "typescript",
   "name": "typescript"
  },
  "language_info": {
   "file_extension": ".ts",
   "mimetype": "application/x-typescript",
   "name": "typescript",
   "version": "4.8.4"
  },
  "orig_nbformat": 4,
  "vscode": {
   "interpreter": {
    "hash": "a665b5d41d17b532ea9890333293a1b812fa0b73c9c25c950b3cedf1bebd0438"
   }
  }
 },
 "nbformat": 4,
 "nbformat_minor": 2
}
