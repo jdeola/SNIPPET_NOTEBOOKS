{
 "cells": [
  {
   "attachments": {},
   "cell_type": "markdown",
   "metadata": {},
   "source": [
    "# REACT SNIPPETS ⚛️\n",
    "---"
   ]
  },
  {
   "attachments": {},
   "cell_type": "markdown",
   "metadata": {},
   "source": [
    "### Use `assert` to fail early\n",
    "\n",
    "The assert function acts as a safety net. It prevents the app from being built if the NEXT_PUBLIC_API_BASE_URL env variable is missing. So we immediately know that something is wrong before the code is deployed. Note that Next.js ships `dotenv` out of the box\n",
    "\n",
    "read more: https://dev.to/jkettmann/separate-api-layers-in-react-apps-6-steps-towards-maintainable-code-4n2"
   ]
  },
  {
   "cell_type": "code",
   "execution_count": null,
   "metadata": {},
   "outputs": [],
   "source": [
    "// api/axios.ts\n",
    "\n",
    "import assert from \"assert\";\n",
    "import Axios from \"axios\";\n",
    "\n",
    "assert(\n",
    "  process.env.NEXT_PUBLIC_API_BASE_URL,\n",
    "  \"env variable not set: NEXT_PUBLIC_API_BASE_URL\"\n",
    ");\n",
    "\n",
    "export const axios = Axios.create({\n",
    "  baseURL: process.env.NEXT_PUBLIC_API_BASE_URL,\n",
    "});\n",
    "\n",
    "\n",
    "// .env\n",
    "\n",
    "NEXT_PUBLIC_API_BASE_URL=https://prolog-api.profy.dev/v2"
   ]
  },
  {
   "attachments": {},
   "cell_type": "markdown",
   "metadata": {},
   "source": [
    "---\n",
    "### decouple auth logic from fetch functions\n",
    "\n",
    "we can use axios request interceptors to remove headers from fetch request\n",
    "\n",
    "```\n",
    "axios.get(\"/endpoint\", {\n",
    "    params: { page, status: 'open'},\n",
    "    signal: options.signla,\n",
    "    headers: {Authoriztion: \"my-access-token\"} ❗️\n",
    "})\n",
    "```"
   ]
  },
  {
   "cell_type": "code",
   "execution_count": null,
   "metadata": {},
   "outputs": [],
   "source": [
    "// api/axios.ts\n",
    "\n",
    "import assert from \"assert\";\n",
    "import Axios, { AxiosRequestConfig } from \"axios\";\n",
    "\n",
    "assert(\n",
    "  process.env.NEXT_PUBLIC_API_BASE_URL,\n",
    "  \"env variable not set: NEXT_PUBLIC_API_BASE_URL\"\n",
    ");\n",
    "\n",
    "assert(\n",
    "  process.env.NEXT_PUBLIC_API_TOKEN,\n",
    "  \"env variable not set: NEXT_PUBLIC_API_TOKEN\"\n",
    ");\n",
    "\n",
    "function authRequestInterceptor(config: AxiosRequestConfig) {\n",
    "  config.headers.authorization = process.env.NEXT_PUBLIC_API_TOKEN;\n",
    "  return config;\n",
    "}\n",
    "\n",
    "export const axios = Axios.create({\n",
    "  baseURL: process.env.NEXT_PUBLIC_API_BASE_URL,\n",
    "});\n",
    "\n",
    "axios.interceptors.request.use(authRequestInterceptor);"
   ]
  },
  {
   "attachments": {},
   "cell_type": "markdown",
   "metadata": {},
   "source": [
    "We already achieved a good separation between the fetch functions and the query hooks. As mentioned, the query hooks don’t have any knowledge about Axios being used or about request details like the endpoints.\n",
    "\n",
    "But the fetch functions themselves aren’t decoupled from Axios yet. We directly export the Axios client and use it in the fetch functions."
   ]
  },
  {
   "cell_type": "code",
   "execution_count": null,
   "metadata": {},
   "outputs": [],
   "source": [
    "// api/axios.ts\n",
    "\n",
    "export const axios = Axios.create({\n",
    "    baseURL: process.env.NEXT_PUBLIC_API_BASE_URL,\n",
    "  });\n",
    "  \n",
    "\n",
    "// api/issues.ts\n",
    "\n",
    "import { axios } from \"./axios\";\n",
    "\n",
    "export async function getIssues(...) {\n",
    "  const { data } = await axios.get(ENDPOINT, {\n",
    "    params: { page, ...filters },\n",
    "    signal: options?.signal,\n",
    "  });\n",
    "  return data;\n",
    "}"
   ]
  },
  {
   "attachments": {},
   "cell_type": "markdown",
   "metadata": {},
   "source": [
    "If we wanted to replace Axios with something else we’d have to adjust all the fetch functions as well.\n",
    "\n",
    "To create a further isolation layer we can simply wrap the axios client and only expose its methods indirectly."
   ]
  },
  {
   "cell_type": "code",
   "execution_count": null,
   "metadata": {},
   "outputs": [],
   "source": [
    "// api/api-client.ts\n",
    "\n",
    "const axios = Axios.create({\n",
    "    baseURL: process.env.NEXT_PUBLIC_API_BASE_URL,\n",
    "  });\n",
    "  \n",
    "  export const apiClient = {\n",
    "    get: (route, config) =>\n",
    "      axios.get(route, { signal: config?.signal, params: config?.params }),\n",
    "    post: (route, data, config) =>\n",
    "      axios.post(route, data, { signal: config?.signal }),\n",
    "    put: (route, data, config) =>\n",
    "      axios.put(route, data, { signal: config?.signal }),\n",
    "    patch: (route, data, config) =>\n",
    "      axios.patch(route, data, { signal: config?.signal }),\n",
    "  };"
   ]
  },
  {
   "attachments": {},
   "cell_type": "markdown",
   "metadata": {},
   "source": [
    "Note that we don’t pass the config object directly to axios. Otherwise, the fetch functions could use any config option that Axios supports. And that again would couple them to Axios.\n",
    "\n",
    "The fetch function basically would stay the same."
   ]
  },
  {
   "cell_type": "code",
   "execution_count": null,
   "metadata": {},
   "outputs": [],
   "source": [
    "// api/issues.ts\n",
    "\n",
    "import { apiClient } from \"./api-client\";\n",
    "\n",
    "export async function getIssues(...) {\n",
    "  const { data } = await apiClient.get(ENDPOINT, {\n",
    "    params: { page, ...filters },\n",
    "    signal: options?.signal,\n",
    "  });\n",
    "  return data;\n",
    "}"
   ]
  },
  {
   "attachments": {},
   "cell_type": "markdown",
   "metadata": {},
   "source": [
    "React tip: If state values are related, and must be kept in sync, create the \"derived\" value on render.\n",
    "\n",
    "Example: If you have data and filteredData, create filteredData on render.\n",
    "\n",
    "Doing so eliminates a useEffect, and needless syncing code. This reduces the chance of bugs."
   ]
  },
  {
   "cell_type": "code",
   "execution_count": null,
   "metadata": {},
   "outputs": [],
   "source": [
    "//! AVOID: routes and filteredRoutes need to be kept in sync 👎\n",
    "const [routes, setRoutes] = useState([])\n",
    "const [filteredRoutes, setFilteredRoutes] = useState([])\n",
    "const [search, setSearch] = useState(\"\")\n",
    "\n",
    "// Using useEffect to sync related stated\n",
    "useEffect(() => {\n",
    "    setFilteredRoutes(routes.filter((route) => {\n",
    "        // filtering logic here\n",
    "    }))\n",
    "}, [search])\n",
    "\n",
    "//* PREFERED: Derive related state on render. This eliminates the need for useEffect 👍\n",
    "const [routes2, setRoutes2] = useState([])\n",
    "const [search2, setSearch2] = useState(\"\")\n",
    "\n",
    "// Derive filtered routes on each render. \n",
    "// If this is expensive, memoize it.\n",
    "const filteredRoutes2 = routes.filter((route) => {\n",
    "            // filtering logic here\n",
    "})"
   ]
  },
  {
   "attachments": {},
   "cell_type": "markdown",
   "metadata": {},
   "source": [
    "![](derived_state_tip.png)"
   ]
  },
  {
   "attachments": {},
   "cell_type": "markdown",
   "metadata": {},
   "source": [
    "---"
   ]
  },
  {
   "attachments": {},
   "cell_type": "markdown",
   "metadata": {},
   "source": [
    "### Mediator Patter in React\n",
    "\n",
    "https://itnext.io/improve-state-management-in-react-with-mediator-design-pattern-db632cbe6475\n",
    "\n",
    "Mediator Pattern to Decouple State Management in React\n",
    "Managing the state of multiple components in a React application can be a challenging task, but one solution that has gained popularity is the use of the Mediator pattern. By creating a mediator component that manages the application state and handles communication between components, the Mediator pattern promotes loose coupling, scalability, reusability, maintainability, and testability.\n",
    "\n",
    "Rather than having components communicate directly with each other, the mediator component acts as a central hub that facilitates communication between components. This approach allows for better separation of concerns, making it easier to add new features or modify existing ones without disrupting the entire application.\n",
    "\n",
    "Using the Mediator pattern as a state management solution in React applications also promotes modularization, making it easier to reuse components in other parts of the application or even in other applications.\n",
    "\n",
    "Here are the general steps to implement the Mediator pattern as a state management solution in a React application:\n",
    "\n",
    "- Identify the state that needs to be managed: Identify the state that needs to be managed and which components need access the state.\n",
    "- Create a Mediator component: Create a Mediator component that will manage the state and handle communication between the components. The Mediator component will store the state and update it when necessary.\n",
    "- Pass the Mediator as a prop: Pass the Mediator component as a prop to the components that need access to the state.\n",
    "- Implement event handlers: Implement event handlers in the components that need to update the state. These event handlers should trigger a function in the Mediator component that updates the state.\n",
    "- Use the state: Use the state stored in the Mediator component in the components that need access to it.\n",
    "\n",
    "\n",
    "Let’s take a look at an example code snippet that demonstrates how to implement the Mediator pattern as a state management solution in a React application:"
   ]
  },
  {
   "cell_type": "code",
   "execution_count": null,
   "metadata": {},
   "outputs": [],
   "source": [
    "// Mediator component\n",
    "const Mediator = ({ children }) => {\n",
    "  const [state, setState] = useState({ count: 0 });\n",
    "\n",
    "  const incrementCount = () => {\n",
    "    setState({ count: state.count + 1 });\n",
    "  };\n",
    "\n",
    "  const decrementCount = () => {\n",
    "    setState({ count: state.count - 1 });\n",
    "  };\n",
    "\n",
    "  // Pass state and event handlers as props to children components\n",
    "  return children({ count: state.count, incrementCount, decrementCount });\n",
    "};\n",
    "\n",
    "// Child component\n",
    "const Counter = ({ count, incrementCount, decrementCount }) => {\n",
    "  return (\n",
    "    <div>\n",
    "      <p>Count: {count}</p>\n",
    "      <button onClick={incrementCount}>Increment</button>\n",
    "      <button onClick={decrementCount}>Decrement</button>\n",
    "    </div>\n",
    "  );\n",
    "};\n",
    "\n",
    "// Parent component\n",
    "const App = () => {\n",
    "  return (\n",
    "    <Mediator>\n",
    "      {({ count, incrementCount, decrementCount }) => (\n",
    "        <Counter count={count} incrementCount={incrementCount} decrementCount={decrementCount} />\n",
    "      )}\n",
    "    </Mediator>\n",
    "  );\n",
    "};"
   ]
  },
  {
   "attachments": {},
   "cell_type": "markdown",
   "metadata": {},
   "source": [
    "Comparing the Mediator Pattern to Context API as State Management\n",
    "While both the Mediator Pattern and Context API can be used for state management in a React application, there are some key differences between them.\n",
    "\n",
    "The Mediator Pattern promotes loose coupling between components, while the Context API promotes tighter coupling between components. In the Mediator Pattern, components communicate through a Mediator object, while in the Context API, components directly access the shared state.\n",
    "\n",
    "At the same time, the Mediator Pattern can be more complex to implement than the Context API, as it requires creating a custom hook and managing state within the Mediator object. The Context API is simpler to implement, as it only requires creating a Context object and providing a Provider component.\n",
    "\n",
    "Both the Mediator Pattern and Context API have their strengths and weaknesses, and the choice of which to use will depend on the application's specific requirements.\n",
    "\n",
    "The Mediator Pattern is well-suited for applications with complex state management requirements and a large number of components that need to communicate with each other. It can provide a more modular and flexible approach to state management, allowing for easier maintenance and extensibility.\n",
    "\n",
    "The Context API is better suited for applications with simpler state management requirements and a smaller number of components. It can provide a simpler and more straightforward approach to state management, allowing for faster development and easier code maintenance.\n",
    "\n",
    "It’s important to understand the differences between the Mediator Pattern and Context API for state management in React. The Mediator Pattern offers greater flexibility for complex state management, while the Context API provides a simpler approach for applications with fewer components. Ultimately, the choice of which to use depends on the application's specific requirements."
   ]
  },
  {
   "attachments": {},
   "cell_type": "markdown",
   "metadata": {},
   "source": [
    "---\n",
    "### JWT Authentication with React Router\n",
    "https://dev.to/sanjayttg/jwt-authentication-in-react-with-react-router-1d03"
   ]
  },
  {
   "cell_type": "code",
   "execution_count": null,
   "metadata": {},
   "outputs": [],
   "source": [
    "import axios from \"axios\";\n",
    "import { createContext, useContext, useEffect, useMemo, useState } from \"react\";\n",
    "\n",
    "const AuthContext = createContext();\n",
    "\n",
    "const AuthProvider = ({ children }) => {\n",
    "  // State to hold the authentication token\n",
    "  const [token, setToken_] = useState(localStorage.getItem(\"token\"));\n",
    "\n",
    "  // Function to set the authentication token\n",
    "  const setToken = (newToken) => {\n",
    "    setToken_(newToken);\n",
    "  };\n",
    "\n",
    "  useEffect(() => {\n",
    "    if (token) {\n",
    "      axios.defaults.headers.common[\"Authorization\"] = \"Bearer \" + token;\n",
    "      localStorage.setItem('token',token);\n",
    "    } else {\n",
    "      delete axios.defaults.headers.common[\"Authorization\"];\n",
    "      localStorage.removeItem('token')\n",
    "    }\n",
    "  }, [token]);\n",
    "\n",
    "  // Memoized value of the authentication context\n",
    "  const contextValue = useMemo(\n",
    "    () => ({\n",
    "      token,\n",
    "      setToken,\n",
    "    }),\n",
    "    [token]\n",
    "  );\n",
    "\n",
    "  // Provide the authentication context to the children components\n",
    "  return (\n",
    "    <AuthContext.Provider value={contextValue}>{children}</AuthContext.Provider>\n",
    "  );\n",
    "};\n",
    "\n",
    "export const useAuth = () => {\n",
    "  return useContext(AuthContext);\n",
    "};\n",
    "\n",
    "export default AuthProvider;"
   ]
  }
 ],
 "metadata": {
  "kernelspec": {
   "display_name": "JavaScript (Node.js)",
   "language": "javascript",
   "name": "javascript"
  },
  "language_info": {
   "name": "javascript"
  },
  "orig_nbformat": 4
 },
 "nbformat": 4,
 "nbformat_minor": 2
}
