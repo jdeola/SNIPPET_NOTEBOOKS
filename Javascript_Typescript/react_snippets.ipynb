{
 "cells": [
  {
   "cell_type": "markdown",
   "metadata": {},
   "source": [
    "# REACT SNIPPETS ⚛️\n",
    "---"
   ]
  },
  {
   "cell_type": "markdown",
   "metadata": {},
   "source": [
    "### Use `assert` to fail early\n",
    "\n",
    "The assert function acts as a safety net. It prevents the app from being built if the NEXT_PUBLIC_API_BASE_URL env variable is missing. So we immediately know that something is wrong before the code is deployed. Note that Next.js ships `dotenv` out of the box\n",
    "\n",
    "read more: https://dev.to/jkettmann/separate-api-layers-in-react-apps-6-steps-towards-maintainable-code-4n2"
   ]
  },
  {
   "cell_type": "code",
   "execution_count": null,
   "metadata": {},
   "outputs": [],
   "source": [
    "// api/axios.ts\n",
    "\n",
    "import assert from \"assert\";\n",
    "import Axios from \"axios\";\n",
    "\n",
    "assert(\n",
    "  process.env.NEXT_PUBLIC_API_BASE_URL,\n",
    "  \"env variable not set: NEXT_PUBLIC_API_BASE_URL\"\n",
    ");\n",
    "\n",
    "export const axios = Axios.create({\n",
    "  baseURL: process.env.NEXT_PUBLIC_API_BASE_URL,\n",
    "});\n",
    "\n",
    "\n",
    "// .env\n",
    "\n",
    "NEXT_PUBLIC_API_BASE_URL=https://prolog-api.profy.dev/v2"
   ]
  },
  {
   "cell_type": "markdown",
   "metadata": {},
   "source": [
    "---\n",
    "### decouple auth logic from fetch functions\n",
    "\n",
    "we can use axios request interceptors to remove headers from fetch request\n",
    "\n",
    "```\n",
    "axios.get(\"/endpoint\", {\n",
    "    params: { page, status: 'open'},\n",
    "    signal: options.signla,\n",
    "    headers: {Authoriztion: \"my-access-token\"} ❗️\n",
    "})\n",
    "```"
   ]
  },
  {
   "cell_type": "code",
   "execution_count": null,
   "metadata": {},
   "outputs": [],
   "source": [
    "// api/axios.ts\n",
    "\n",
    "import assert from \"assert\";\n",
    "import Axios, { AxiosRequestConfig } from \"axios\";\n",
    "\n",
    "assert(\n",
    "  process.env.NEXT_PUBLIC_API_BASE_URL,\n",
    "  \"env variable not set: NEXT_PUBLIC_API_BASE_URL\"\n",
    ");\n",
    "\n",
    "assert(\n",
    "  process.env.NEXT_PUBLIC_API_TOKEN,\n",
    "  \"env variable not set: NEXT_PUBLIC_API_TOKEN\"\n",
    ");\n",
    "\n",
    "function authRequestInterceptor(config: AxiosRequestConfig) {\n",
    "  config.headers.authorization = process.env.NEXT_PUBLIC_API_TOKEN;\n",
    "  return config;\n",
    "}\n",
    "\n",
    "export const axios = Axios.create({\n",
    "  baseURL: process.env.NEXT_PUBLIC_API_BASE_URL,\n",
    "});\n",
    "\n",
    "axios.interceptors.request.use(authRequestInterceptor);"
   ]
  },
  {
   "cell_type": "markdown",
   "metadata": {},
   "source": [
    "We already achieved a good separation between the fetch functions and the query hooks. As mentioned, the query hooks don’t have any knowledge about Axios being used or about request details like the endpoints.\n",
    "\n",
    "But the fetch functions themselves aren’t decoupled from Axios yet. We directly export the Axios client and use it in the fetch functions."
   ]
  },
  {
   "cell_type": "code",
   "execution_count": null,
   "metadata": {},
   "outputs": [],
   "source": [
    "// api/axios.ts\n",
    "\n",
    "export const axios = Axios.create({\n",
    "    baseURL: process.env.NEXT_PUBLIC_API_BASE_URL,\n",
    "  });\n",
    "  \n",
    "\n",
    "// api/issues.ts\n",
    "\n",
    "import { axios } from \"./axios\";\n",
    "\n",
    "export async function getIssues(...) {\n",
    "  const { data } = await axios.get(ENDPOINT, {\n",
    "    params: { page, ...filters },\n",
    "    signal: options?.signal,\n",
    "  });\n",
    "  return data;\n",
    "}"
   ]
  },
  {
   "cell_type": "markdown",
   "metadata": {},
   "source": [
    "If we wanted to replace Axios with something else we’d have to adjust all the fetch functions as well.\n",
    "\n",
    "To create a further isolation layer we can simply wrap the axios client and only expose its methods indirectly."
   ]
  },
  {
   "cell_type": "code",
   "execution_count": null,
   "metadata": {},
   "outputs": [],
   "source": [
    "// api/api-client.ts\n",
    "\n",
    "const axios = Axios.create({\n",
    "    baseURL: process.env.NEXT_PUBLIC_API_BASE_URL,\n",
    "  });\n",
    "  \n",
    "  export const apiClient = {\n",
    "    get: (route, config) =>\n",
    "      axios.get(route, { signal: config?.signal, params: config?.params }),\n",
    "    post: (route, data, config) =>\n",
    "      axios.post(route, data, { signal: config?.signal }),\n",
    "    put: (route, data, config) =>\n",
    "      axios.put(route, data, { signal: config?.signal }),\n",
    "    patch: (route, data, config) =>\n",
    "      axios.patch(route, data, { signal: config?.signal }),\n",
    "  };"
   ]
  },
  {
   "cell_type": "markdown",
   "metadata": {},
   "source": [
    "Note that we don’t pass the config object directly to axios. Otherwise, the fetch functions could use any config option that Axios supports. And that again would couple them to Axios.\n",
    "\n",
    "The fetch function basically would stay the same."
   ]
  },
  {
   "cell_type": "code",
   "execution_count": null,
   "metadata": {},
   "outputs": [],
   "source": [
    "// api/issues.ts\n",
    "\n",
    "import { apiClient } from \"./api-client\";\n",
    "\n",
    "export async function getIssues(...) {\n",
    "  const { data } = await apiClient.get(ENDPOINT, {\n",
    "    params: { page, ...filters },\n",
    "    signal: options?.signal,\n",
    "  });\n",
    "  return data;\n",
    "}"
   ]
  },
  {
   "cell_type": "markdown",
   "metadata": {},
   "source": [
    "React tip: If state values are related, and must be kept in sync, create the \"derived\" value on render.\n",
    "\n",
    "Example: If you have data and filteredData, create filteredData on render.\n",
    "\n",
    "Doing so eliminates a useEffect, and needless syncing code. This reduces the chance of bugs."
   ]
  },
  {
   "cell_type": "code",
   "execution_count": null,
   "metadata": {},
   "outputs": [],
   "source": [
    "//! AVOID: routes and filteredRoutes need to be kept in sync 👎\n",
    "const [routes, setRoutes] = useState([])\n",
    "const [filteredRoutes, setFilteredRoutes] = useState([])\n",
    "const [search, setSearch] = useState(\"\")\n",
    "\n",
    "// Using useEffect to sync related stated\n",
    "useEffect(() => {\n",
    "    setFilteredRoutes(routes.filter((route) => {\n",
    "        // filtering logic here\n",
    "    }))\n",
    "}, [search])\n",
    "\n",
    "//* PREFERED: Derive related state on render. This eliminates the need for useEffect 👍\n",
    "const [routes2, setRoutes2] = useState([])\n",
    "const [search2, setSearch2] = useState(\"\")\n",
    "\n",
    "// Derive filtered routes on each render. \n",
    "// If this is expensive, memoize it.\n",
    "const filteredRoutes2 = routes.filter((route) => {\n",
    "            // filtering logic here\n",
    "})"
   ]
  },
  {
   "cell_type": "markdown",
   "metadata": {},
   "source": [
    "![](derived_state_tip.png)"
   ]
  },
  {
   "cell_type": "markdown",
   "metadata": {},
   "source": [
    "---"
   ]
  }
 ],
 "metadata": {
  "kernelspec": {
   "display_name": "JavaScript (Node.js)",
   "language": "javascript",
   "name": "javascript"
  },
  "language_info": {
   "name": "javascript"
  },
  "orig_nbformat": 4
 },
 "nbformat": 4,
 "nbformat_minor": 2
}
