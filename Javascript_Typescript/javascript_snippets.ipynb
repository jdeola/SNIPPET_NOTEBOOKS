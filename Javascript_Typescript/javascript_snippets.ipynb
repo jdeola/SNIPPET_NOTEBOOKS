{
 "cells": [
  {
   "attachments": {},
   "cell_type": "markdown",
   "metadata": {},
   "source": [
    "# Javascript Snippets\n",
    "---"
   ]
  },
  {
   "attachments": {},
   "cell_type": "markdown",
   "metadata": {},
   "source": [
    "### Removing duplicate strings in array\n",
    "\n",
    "2 methods, although instantiating and spreading a set looks more elegant, the 2nd method performs roughly 8x slower"
   ]
  },
  {
   "cell_type": "code",
   "execution_count": null,
   "metadata": {
    "tags": [
     "arrays"
    ]
   },
   "outputs": [],
   "source": [
    "//method 1, spreading a set\n",
    "const uniqueArr = (arr) => [...new Set(arr)];\n",
    "\n",
    "//method 2, for loop with map\n",
    "const removeDuplicateStrings = (array) => {\n",
    "    const uniqueValues = [];\n",
    "    const seenMap = {};\n",
    "  \n",
    "    for (const item of array) {\n",
    "      if (seenMap[item]) continue;\n",
    "      seenMap[item] = true;\n",
    "      uniqueValues.push(item);\n",
    "    }\n",
    "  \n",
    "    return uniqueValues;\n",
    "  };"
   ]
  },
  {
   "attachments": {},
   "cell_type": "markdown",
   "metadata": {},
   "source": [
    "### get parameters from URL and convert to object"
   ]
  },
  {
   "cell_type": "code",
   "execution_count": null,
   "metadata": {
    "tags": [
     "objects"
    ]
   },
   "outputs": [],
   "source": [
    "/**\n",
    " * Returns the provided URLs search parameters\n",
    " * as a set of key-value pairs.\n",
    " */\n",
    " const getURLParameters = (url) => {\n",
    "    const { searchParams } = new URL(url);\n",
    "    return Object.fromEntries(searchParams);\n",
    "  };"
   ]
  },
  {
   "cell_type": "code",
   "execution_count": null,
   "metadata": {},
   "outputs": [],
   "source": [
    "// also supports duplicate keys as array.\n",
    "\n",
    "const getURLParams = (url) => {\n",
    "  return (url.match(/([^?=&]+)(=([^&]*))/g) || []).reduce((acc, cur) => {\n",
    "      const [k, v] = cur.split('=');\n",
    "      const p = acc[k];\n",
    "\n",
    "      acc[k] = p ? (Array.isArray(p) ? p : [p]).concat(v) : v;\n",
    "      return acc;\n",
    "  }, {});\n",
    "};\n",
    "\n",
    "// 🎉 {}\n",
    "console.log(getURLParams('google.com'));\n",
    "\n",
    "// 🎉 { name: '1', age: '2' }\n",
    "console.log(getURLParams('https://www.google.com/?name=1&age=2'));\n",
    "\n",
    "// Support duplicate key\n",
    "// 🎉 { name: '1', age: [ '2', '3' ] }\n",
    "console.log(getURLParams('https://www.google.com/?name=1&age=2&age=3'));\n",
    "\n",
    "// 🎉 { name: '1', age: '2' }\n",
    "console.log(getURLParams('name=1&age=2'));"
   ]
  },
  {
   "attachments": {},
   "cell_type": "markdown",
   "metadata": {},
   "source": [
    "### Get the values at a given path"
   ]
  },
  {
   "cell_type": "code",
   "execution_count": null,
   "metadata": {
    "tags": [
     "arrays",
     "objects"
    ]
   },
   "outputs": [],
   "source": [
    "// gets the the value at given path\n",
    "// of an object or array\n",
    "\n",
    "const getValue = (from, selectors) =>\n",
    "    selectors\n",
    "        .replace(/\\[([^[\\]]*)]/g, '.$1.')\n",
    "        .split('.')\n",
    "        .filter((item) => item !== '')\n",
    "        .reduce((acc, cur) => {\n",
    "            if (acc instanceof Object) {\n",
    "                return acc[cur];\n",
    "            }\n",
    "            return void 0;\n",
    "        }, from);\n",
    "\n",
    "const object = { a: [{ b: { c: 3 } }] };\n",
    "const array = [{ a: { b: [1] } }, { c: 2 }];\n",
    "\n",
    "// 3\n",
    "console.log(getValue(object, 'a[0].b.c'));\n",
    "// 1\n",
    "console.log(getValue(array, '[0].a.b[0]'));\n",
    "// 2\n",
    "console.log(getValue(array, '[1].c'));\n",
    "// undefined\n",
    "console.log(getValue(array, '[0].a.b[0][2].c'));\n"
   ]
  },
  {
   "attachments": {},
   "cell_type": "markdown",
   "metadata": {},
   "source": [
    "### Check whether object is empty"
   ]
  },
  {
   "cell_type": "code",
   "execution_count": null,
   "metadata": {
    "tags": [
     "objects"
    ]
   },
   "outputs": [],
   "source": [
    "// may not check all cases, check prototype?\n",
    "const isObjectEmpty = (object) => {\n",
    "    if (object.constructor !== Object) return false;\n",
    "    // Iterates over the keys of an object, if\n",
    "    // any exist, return false.\n",
    "    for (_ in object) return false;\n",
    "    return true;\n",
    "  };"
   ]
  },
  {
   "attachments": {},
   "cell_type": "markdown",
   "metadata": {},
   "source": [
    "### Resize or Empty an Array Using array.length"
   ]
  },
  {
   "cell_type": "code",
   "execution_count": null,
   "metadata": {
    "tags": [
     "arrays"
    ]
   },
   "outputs": [],
   "source": [
    "let array = ['a', 'b', 'c', 'd', 'e', 'f', 'g', 'h', 'i', 'j'];\n",
    "\n",
    "console.log(array.length); // returns the length as 10\n",
    "\n",
    "array.length = 4;\n",
    "\n",
    "console.log(array.length); // returns the length as 4\n",
    "console.log(array); // returns ['a', 'b', 'c', 'd']"
   ]
  },
  {
   "attachments": {},
   "cell_type": "markdown",
   "metadata": {},
   "source": [
    "### Flatten the multidimensional array"
   ]
  },
  {
   "cell_type": "code",
   "execution_count": null,
   "metadata": {
    "tags": [
     "arrays"
    ]
   },
   "outputs": [],
   "source": [
    "var entries = [1, [2, 5], [6, 7], 9];\n",
    "var flat_entries = [].concat(...entries); \n",
    "// [1, 2, 5, 6, 7, 9]"
   ]
  },
  {
   "attachments": {},
   "cell_type": "markdown",
   "metadata": {},
   "source": [
    "### Getting the last item in the array"
   ]
  },
  {
   "cell_type": "code",
   "execution_count": null,
   "metadata": {
    "tags": [
     "arrays"
    ]
   },
   "outputs": [],
   "source": [
    "var array = [1, 2, 3, 4, 5, 6]; \n",
    "console.log(array.slice(-1)); // [6] \n",
    "console.log(array.slice(-2)); // [5,6] \n",
    "console.log(array.slice(-3)); // [4,5,6]"
   ]
  },
  {
   "attachments": {},
   "cell_type": "markdown",
   "metadata": {},
   "source": [
    "### Swap two variables without a third variable"
   ]
  },
  {
   "cell_type": "code",
   "execution_count": null,
   "metadata": {
    "tags": [
     "arrays"
    ]
   },
   "outputs": [],
   "source": [
    "let x = 1;\n",
    "let y = 2;\n",
    "[x, y] = [y, x]; // x = 2, y = 1"
   ]
  },
  {
   "attachments": {},
   "cell_type": "markdown",
   "metadata": {},
   "source": [
    "### Merging two arrays by optimizing memory"
   ]
  },
  {
   "cell_type": "code",
   "execution_count": null,
   "metadata": {
    "tags": [
     "arrays"
    ]
   },
   "outputs": [],
   "source": [
    "var array1 = [1, 2, 3]; \n",
    "var array2 = [4, 5, 6]; \n",
    "\n",
    "var newSmallArray = array1.concat(array2); // concat uses a lot of memory\n",
    "var newBigArray = array1.push.apply(array1, array2);\n",
    "\n",
    "console.log(newArray); // [1,2,3,4,5,6]; "
   ]
  },
  {
   "attachments": {},
   "cell_type": "markdown",
   "metadata": {},
   "source": [
    "### Instead of plain delete use splice\n",
    "\n",
    "> splice is optimal bc delete just deletes the obj property \n",
    "> without reindexing or updating length leaving undefined values \n",
    "> and consumes a huge amount of time in execution"
   ]
  },
  {
   "cell_type": "code",
   "execution_count": null,
   "metadata": {
    "tags": [
     "arrays"
    ]
   },
   "outputs": [],
   "source": [
    "Array = [\"a\", \"b\", \"c\", \"d\"] \n",
    "Array.splice(0, 2) [\"a\", \"b\"]\n",
    "\n",
    "// Result: myArray [\"c\", \"d\"]"
   ]
  },
  {
   "attachments": {},
   "cell_type": "markdown",
   "metadata": {},
   "source": [
    "### Use a switch…case instead of if/else\n",
    "\n",
    "> Switch…case and if/else performs almost the same task but the execution time \n",
    "> is faster bc if/else statement you need to compare on average \n",
    "> to get to the correct clause while switch statement basically \n",
    "> a lookup table that has options that are known."
   ]
  },
  {
   "attachments": {},
   "cell_type": "markdown",
   "metadata": {},
   "source": [
    "### Copy content to the clipboard"
   ]
  },
  {
   "cell_type": "code",
   "execution_count": null,
   "metadata": {},
   "outputs": [],
   "source": [
    "const copyToClipboard = (content) => {\n",
    "  const textarea = document.createElement(\"textarea\")\n",
    "  \n",
    "  textarea.value = content\n",
    "  document.body.appendChild(textarea)\n",
    "  textarea.select()\n",
    "  document.execCommand(\"Copy\")\n",
    "  textarea.remove()\n",
    "}"
   ]
  },
  {
   "attachments": {},
   "cell_type": "markdown",
   "metadata": {},
   "source": [
    "### Compare app versions"
   ]
  },
  {
   "cell_type": "code",
   "execution_count": null,
   "metadata": {},
   "outputs": [],
   "source": [
    "const compareVersion = (version1, version2) => {\n",
    "  const arr1 = version1.split(\".\")\n",
    "  const arr2 = version2.split(\".\")\n",
    "  const len1 = arr1.length\n",
    "  const len2 = arr2.length\n",
    "  const minLength = Math.min(len1, len2)\n",
    "  \n",
    "  for (let i = 0; i < minLength; i++) {\n",
    "    let diff = parseInt(arr1[i], 10) - parseInt(arr2[i], 10)\n",
    "    if (diff !== 0) return diff\n",
    "  }\n",
    "  return len1 < len2 ? -1 : len1 > len2 ? 1 : 0\n",
    "}\n",
    "\n",
    "const v1 = '2.0.1'\n",
    "const v2 = '2.1.0'\n",
    "const v3 = '2.1.0'\n",
    "\n",
    "console.log(compareVersion(v1, v2)) // -1  V1 is less than V2\n",
    "console.log(compareVersion(v2, v1)) // 1  V2 is greater than v1\n",
    "console.log(compareVersion(v2, v3)) // 0  V2 equals V3"
   ]
  },
  {
   "attachments": {},
   "cell_type": "markdown",
   "metadata": {},
   "source": [
    "### Use URLSearchParams to get the search parameter of URL"
   ]
  },
  {
   "cell_type": "code",
   "execution_count": null,
   "metadata": {},
   "outputs": [],
   "source": [
    "const getQueryByName = (name) => {\n",
    "  const query = new URLSearchParams(location.search)\n",
    "  return decodeURIComponent(query.get(name))\n",
    "}\n",
    "// url: https://medium.com/?name=fatfish&age=100\n",
    "const name = getQueryByName('name') // fatfish\n",
    "const age = getQueryByName('age') // 100\n",
    "const gender = getQueryByName('gender') // null"
   ]
  },
  {
   "attachments": {},
   "cell_type": "markdown",
   "metadata": {},
   "source": [
    "### Scroll smoothly to the top of the page"
   ]
  },
  {
   "cell_type": "code",
   "execution_count": null,
   "metadata": {},
   "outputs": [],
   "source": [
    "const scrollToTop = () => {\n",
    "  const c = document.documentElement.scrollTop || document.body.scrollTop\n",
    "  \n",
    "  if (c > 0) {\n",
    "    window.requestAnimationFrame(scrollToTop)\n",
    "    window.scrollTo(0, c - c / 8)\n",
    "  }\n",
    "}"
   ]
  },
  {
   "attachments": {},
   "cell_type": "markdown",
   "metadata": {},
   "source": [
    "### Get the scroll distance of the current page"
   ]
  },
  {
   "cell_type": "code",
   "execution_count": null,
   "metadata": {},
   "outputs": [],
   "source": [
    "const getScrollPosition = (el = window) => ({\n",
    "  x: el.pageXOffset !== undefined ? el.pageXOffset : el.scrollLeft,\n",
    "  y: el.pageYOffset !== undefined ? el.pageYOffset : el.scrollTop,\n",
    "})\n",
    "\n",
    "getScrollPosition() // { x: 0, y: 215 }"
   ]
  },
  {
   "attachments": {},
   "cell_type": "markdown",
   "metadata": {},
   "source": [
    "// Judge whether the current device is Andoird or iOS"
   ]
  },
  {
   "cell_type": "code",
   "execution_count": null,
   "metadata": {},
   "outputs": [],
   "source": [
    "function getOSType() {\n",
    "  let u = navigator.userAgent,\n",
    "    app = navigator.appVersion\n",
    "  let isAndroid = u.indexOf(\"Android\") > -1 || u.indexOf(\"Linux\") > -1\n",
    "  let isIOS = !!u.match(/\\(i[^]+( U)? CPU.+Mac OS X/)\n",
    "  \n",
    "  if (isIOS) {\n",
    "    return 0\n",
    "  } else if (isAndroid) {\n",
    "    return 1\n",
    "  } else {\n",
    "    return 2\n",
    "  }\n",
    "}\n",
    "\n",
    "getOSType() // 0"
   ]
  },
  {
   "attachments": {},
   "cell_type": "markdown",
   "metadata": {},
   "source": [
    "### Format Money 2 ways"
   ]
  },
  {
   "cell_type": "code",
   "execution_count": null,
   "metadata": {},
   "outputs": [],
   "source": [
    "const formatMoney1 = (money) => {\n",
    "  return money.replace(new RegExp(`(?!^)(?=(\\\\d{3})+${money.includes('.') ? '\\\\.' : '$'})`, 'g'), ',')  \n",
    "}\n",
    "\n",
    "formatMoney1('123456789') // '123,456,789'\n",
    "formatMoney1('123456789.123') // '123,456,789.123'\n",
    "formatMoney1('123') // '123'\n",
    "\n",
    "const formatMoney2 = (money) => {\n",
    "  return money.toLocaleString()\n",
    "}\n",
    "\n",
    "formatMoney2(123456789) // '123,456,789'\n",
    "formatMoney2(123456789.123) // '123,456,789.123'\n",
    "formatMoney2(123) // '123' "
   ]
  },
  {
   "attachments": {},
   "cell_type": "markdown",
   "metadata": {},
   "source": [
    "### Enter and exit fullscreen"
   ]
  },
  {
   "cell_type": "code",
   "execution_count": null,
   "metadata": {},
   "outputs": [],
   "source": [
    "// Enter full screen\n",
    "function fullScreen() {\n",
    "    let el = document.documentElement\n",
    "    let rfs = el.requestFullScreen || el.webkitRequestFullScreen || el.mozRequestFullScreen || el.msRequestFullScreen\n",
    "    //typeof rfs != \"undefined\" && rfs\n",
    "    if (rfs) {\n",
    "      rfs.call(el)\n",
    "    } else if (typeof window.ActiveXObject !== \"undefined\") {\n",
    "      let wscript = new ActiveXObject(\"WScript.Shell\")\n",
    "      if (wscript != null) {\n",
    "        wscript.SendKeys(\"{F11}\")\n",
    "      }\n",
    "    }\n",
    "  }\n",
    "  // Exit full screen\n",
    "  function exitScreen() {\n",
    "    let el = document\n",
    "    let cfs = el.cancelFullScreen || el.webkitCancelFullScreen || el.mozCancelFullScreen || el.exitFullScreen\n",
    "    //typeof cfs != \"undefined\" && cfs\n",
    "    if (cfs) {\n",
    "      cfs.call(el)\n",
    "    } else if (typeof window.ActiveXObject !== \"undefined\") {\n",
    "      let wscript = new ActiveXObject(\"WScript.Shell\")\n",
    "      if (wscript != null) {\n",
    "        wscript.SendKeys(\"{F11}\")\n",
    "      }\n",
    "    }\n",
    "  }"
   ]
  },
  {
   "attachments": {},
   "cell_type": "markdown",
   "metadata": {},
   "source": [
    "### Pagination \n",
    "Suppose there are 120 articles in an array"
   ]
  },
  {
   "cell_type": "code",
   "execution_count": null,
   "metadata": {},
   "outputs": [],
   "source": [
    "const articles = Array.from({ length: 120 }, (_, index) => index);\n",
    "\n",
    "const paginate = (items, itemsPerPage = 10) => {\n",
    "    const pages = Math.ceil(items.length / itemsPerPage);\n",
    "\n",
    "    return Array.from({ length: pages }, (_, index) => {\n",
    "        const start = index * itemsPerPage;\n",
    "        return items.slice(start, start + itemsPerPage);\n",
    "    });\n",
    "};\n",
    "\n",
    "console.log(paginate(articles));\n",
    "console.log(paginate(articles, 7));"
   ]
  },
  {
   "attachments": {},
   "cell_type": "markdown",
   "metadata": {},
   "source": [
    "// full reference: https://web.dev/building-split-text-animations/\n",
    "\n",
    "//* Text letters, words, lines, etc., cannot be individually animated with CSS or JS. \n",
    "//* To achieve the effect, we need boxes. If we want to animate each letter, \n",
    "//* then each letter needs to be an element. \n",
    "//* If we want to animate each word, then each word needs to be an element.\n",
    "\n"
   ]
  },
  {
   "cell_type": "code",
   "execution_count": null,
   "metadata": {},
   "outputs": [],
   "source": [
    "const span = (text, index) => {\n",
    "  const node = document.createElement('span')\n",
    "\n",
    "  node.textContent = text\n",
    "  node.style.setProperty('--index', index) // It's crucial to note that a \n",
    "  // custom property called --index is being set with the array position. \n",
    "  // use --index as a way of offsetting animations for a staggered look.\n",
    "\n",
    "  return node\n",
    "}\n",
    "\n",
    "// Here's a sample of HTML that demonstrates the two attributes:\n",
    "<div>\n",
    "  <h1 split-by=\"letter\" letter-animation=\"breath\">animated letters</h1>\n",
    "  <h1 split-by=\"word\" word-animation=\"trampoline\">hover the words</h1> \n",
    "</div>\n",
    "\n",
    "\n",
    "export const makeSplits = (attr, how = 'letter') => {\n",
    "  const byLetter = text =>\n",
    "      [...text].map(span)\n",
    "\n",
    "  const byWord = text =>\n",
    "      text.split(' ').map(span)\n",
    "\n",
    "  const splitTargets = document.querySelectorAll(`[${attr}]`)\n",
    "\n",
    "  splitTargets.forEach(node => {\n",
    "      // const type = node.getAttribute(`${attr}`)\n",
    "\n",
    "      let nodes = null\n",
    "      if (how === 'letter')\n",
    "          nodes = byLetter(node.innerText)\n",
    "      else if (how === 'word')\n",
    "          nodes = byWord(node.innerText)\n",
    "\n",
    "      if (nodes)\n",
    "          node.firstChild.replaceWith(...nodes)\n",
    "  })\n",
    "}"
   ]
  },
  {
   "attachments": {},
   "cell_type": "markdown",
   "metadata": {},
   "source": [
    "---\n",
    "### 20 Helpful JS one-liners\n",
    "\n",
    "1) Find the max value in an array:\n",
    "\n",
    "`Math.max(...array)`\n",
    "\n",
    "2) Remove duplicates from an array:\n",
    "\n",
    "`[...new Set(array)]`\n",
    "\n",
    "3) Generate a random number between 1 and 100:\n",
    "\n",
    "`Math.floor(Math.random() * 100) + 1`\n",
    "\n",
    "4) Check if a string is a valid number:\n",
    "\n",
    "`!isNaN(parseFloat(string))`\n",
    "\n",
    "5) Get the current date and time:\n",
    "\n",
    "`new Date().toString()`\n",
    "\n",
    "6) Check if a variable is an array:\n",
    "\n",
    "`Array.isArray(variable)`\n",
    "\n",
    "7) Check if a variable is an object:\n",
    "\n",
    "`typeof variable === \"object\"`\n",
    "\n",
    "8) Convert an array to a string:\n",
    "\n",
    "`array.join(\",\")`\n",
    "\n",
    "9) Check if a variable is a function:\n",
    "\n",
    "`typeof variable === \"function\"`\n",
    "\n",
    "10) Convert an object to an array:\n",
    "\n",
    "`Object.values(object)`\n",
    "\n",
    "11) Count the occurrences of an element in an array:\n",
    "\n",
    "`array.filter(x => x === element).length`\n",
    "\n",
    "12) Create a new object with a dynamic key and value:\n",
    "\n",
    "`{ [key]: value }`\n",
    "\n",
    "13) Check if a string is a palindrome:\n",
    "\n",
    "`string === string.split(\"\").reverse().join(\"\")`\n",
    "\n",
    "14) Get the the sum of all the numbers in an array\n",
    "\n",
    "`array.reduce((a, b) => a + b, 0));`\n",
    "\n",
    "15) Get the current timestamp:\n",
    "\n",
    "`Date.now()`\n",
    "\n",
    "16) Check if a variable is null:\n",
    "\n",
    "`variable === null`\n",
    "\n",
    "17) Check if a variable is undefined:\n",
    "\n",
    "`typeof variable === \"undefined\"`\n",
    "\n",
    "18) Find the minimum value in an array\n",
    "\n",
    "`Math.min(...array)`\n",
    "\n",
    "19) Check if an array is empty:\n",
    "\n",
    "`array.length === 0`\n",
    "\n",
    "20) Create a new array with a specified range of numbers:\n",
    "\n",
    "`Array.from({ length: n }, (_, i) => i)`"
   ]
  },
  {
   "attachments": {},
   "cell_type": "markdown",
   "metadata": {},
   "source": [
    "---\n",
    "### Using Local Storage"
   ]
  },
  {
   "cell_type": "code",
   "execution_count": null,
   "metadata": {},
   "outputs": [],
   "source": [
    "// utils.js\n",
    "export const storage1 = {\n",
    "  getItem(key, fallbackValue) {\n",
    "    try {\n",
    "      return localStorage.getItem(key);\n",
    "    } catch(e) {\n",
    "      return fallbackValue;\n",
    "    }\n",
    "  },\n",
    "  setItem(key, value) {\n",
    "    try {\n",
    "      localStorage.setItem(key, value);\n",
    "    } catch(e) {\n",
    "      // \n",
    "    }\n",
    "  },\n",
    "  removeItem(key, value) {\n",
    "    try {\n",
    "      localStorage.removeItem(key, value);\n",
    "    } catch(e) {\n",
    "      // \n",
    "    }\n",
    "  }\n",
    "}\n",
    "\n",
    "//* if LS not supported, fall back to memory class\n",
    "\n",
    "function isSupportLS() {\n",
    "  try {\n",
    "    localStorage.setItem('_ranger-test-key', 'hi')\n",
    "    localStorage.getItem('_ranger-test-key')\n",
    "    localStorage.removeItem('_ranger-test-key')\n",
    "    return true\n",
    "  } catch (e) {\n",
    "    return false\n",
    "  }\n",
    "}\n",
    "\n",
    "class Memory {\n",
    "  constructor() {\n",
    "    this.cache = {}\n",
    "  }\n",
    "  setItem(cacheKey, data) {\n",
    "    this.cache[cacheKey] = data\n",
    "  }\n",
    "  getItem(cacheKey) {\n",
    "    return this.cache[cacheKey]\n",
    "  }\n",
    "  removeItem(cacheKey) {\n",
    "    this.cache[cacheKey] = undefined\n",
    "  }\n",
    "}\n",
    "// if not support localStorage, fallback to memory\n",
    "export const storage2 = isSupportLS() ? window.localStorage : new Memory();\n"
   ]
  },
  {
   "attachments": {},
   "cell_type": "markdown",
   "metadata": {},
   "source": [
    "---\n",
    "### Serialize Sequential Promises\n",
    "https://gist.github.com/istarkov/a42b3bd1f2a9da393554"
   ]
  },
  {
   "cell_type": "code",
   "execution_count": null,
   "metadata": {},
   "outputs": [],
   "source": [
    "// promise\n",
    "const sleep = (timeout, v) => new Promise(r => setTimeout(() => r(v), timeout));\n",
    "// series to call\n",
    "const series = [() => sleep(1000, 1), () => sleep(1000, 2), () => sleep(1000, 3)];\n",
    "\n",
    "// serialize\n",
    "const r = series\n",
    "  .reduce(\n",
    "    (m, p) => m.then(v => Promise.all([...v, p()])),\n",
    "    Promise.resolve([])\n",
    "  );\n",
    "\n",
    "// get result\n",
    "r.then((r) => console.log('done', r))\n",
    "// out [1, 2, 3]"
   ]
  },
  {
   "attachments": {},
   "cell_type": "markdown",
   "metadata": {},
   "source": [
    "### Async Serializer pattern\n",
    "https://advancedweb.hu/how-to-serialize-calls-to-an-async-function/\n",
    "\n",
    "The solution is to keep a queue of Promises that chains them one after the other. It is just a few lines of code and it is general purpose, allowing any function be serialized:"
   ]
  },
  {
   "cell_type": "code",
   "execution_count": null,
   "metadata": {},
   "outputs": [],
   "source": [
    "const serialize = (fn) => {\n",
    "\tlet queue = Promise.resolve();\n",
    "\treturn (...args) => {\n",
    "\t\tconst res = queue.then(() => fn(...args));\n",
    "\t\tqueue = res.catch(() => {});\n",
    "\t\treturn res;\n",
    "\t};\n",
    "};"
   ]
  },
  {
   "attachments": {
    "image.png": {
     "image/png": "[encoded data removed]"
    }
   },
   "cell_type": "markdown",
   "metadata": {},
   "source": [
    "![image.png](attachment:image.png)"
   ]
  },
  {
   "attachments": {},
   "cell_type": "markdown",
   "metadata": {},
   "source": [
    "The `Promise.resolve()` is the start of the queue. Every other call is appended to this Promise.\n",
    "\n",
    "The `queue.then(() => fn(...args))` adds the function call to the queue and it saves its result in res. It will be resolved when the current and all the previous calls are resolved.\n",
    "\n",
    "The `queue = res.catch(() => {})` part makes sure that the queue won’t get stuck in rejection when one part of it is rejected.\n",
    "\n",
    "Wrapping the caching function with this serializer makes sure that a single refresh is run even for multiple calls:"
   ]
  },
  {
   "cell_type": "code",
   "execution_count": null,
   "metadata": {},
   "outputs": [],
   "source": [
    "const fn = serialize((() => {\n",
    "\tconst cacheTime = 2000;\n",
    "\tlet lastRefreshed = undefined;\n",
    "\tlet lastResult = undefined;\n",
    "\treturn async () => {\n",
    "\t\tconst currentTime = new Date().getTime();\n",
    "\t\t// check if cache is fresh enough\n",
    "\t\tif (lastResult === undefined ||\n",
    "\t\t\tlastRefreshed + cacheTime < currentTime) {\n",
    "\t\t\t// refresh the value\n",
    "\t\t\tlastResult = await refresh();\n",
    "\t\t\tlastRefreshed = currentTime;\n",
    "\t\t}\n",
    "\t\treturn lastResult;\n",
    "\t}\n",
    "})());\n",
    "\n",
    "fn();\n",
    "fn();\n",
    "// refreshing"
   ]
  }
 ],
 "metadata": {
  "kernelspec": {
   "display_name": "JavaScript (Node.js)",
   "language": "javascript",
   "name": "javascript"
  },
  "language_info": {
   "name": "javascript"
  },
  "orig_nbformat": 4
 },
 "nbformat": 4,
 "nbformat_minor": 2
}
