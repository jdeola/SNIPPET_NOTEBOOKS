{
 "cells": [
  {
   "cell_type": "markdown",
   "metadata": {},
   "source": [
    "# Node.js Snippets\n",
    "---"
   ]
  },
  {
   "cell_type": "markdown",
   "metadata": {},
   "source": [
    "## Sending UDP Messages in Node.js Without DNS Lookups\n",
    "from blog: https://hermanradtke.com/sending-udp-messages-in-nodejs-without-dns-lookups/"
   ]
  },
  {
   "cell_type": "code",
   "execution_count": null,
   "metadata": {},
   "outputs": [],
   "source": [
    "import dgram from 'node:dgram';\n",
    "import { Buffer } from 'node:buffer';\n",
    "import util from 'util';\n",
    "\n",
    "import dns from 'dns';\n",
    "import { resolve4 } from 'node:dns/promises';\n",
    "\n",
    "const host = 'www.example.com';\n",
    "// note: resolve4 will not work with IP addresses nor will it work with values like 'localhost'\n",
    "const ipAddresses = await resolve4(host, { ttl: true });\n",
    "\n",
    "const { address, ttl } = ipAddresses.pop();\n",
    "\n",
    "let cacheIpAddr = address;\n",
    "let cacheTtl = ttl * 1000; // store ttl in ms\n",
    "let cacheTimestamp = Date.now();\n",
    "let resolveLock = false;\n",
    "const socket = dgram.createSocket({\n",
    "  type: 'udp4',\n",
    "  lookup: (hostname, options, callback) => {\n",
    "    if (hostname === host) {\n",
    "      const now = Date.now();\n",
    "      if (\n",
    "        resolveLock === false &&\n",
    "        (now - cacheTimestamp > cacheTtl)\n",
    "      ) {\n",
    "        resolveLock = true;\n",
    "        console.log('lazily refreshing ip address...');\n",
    "        dns.resolve4(hostname, { ttl: true }, (err, addresses) => {\n",
    "          resolveLock = false;\n",
    "          if (err) {\n",
    "            console.error(err);\n",
    "            return;\n",
    "          }\n",
    "\n",
    "          cacheIpAddr = addresses[0].address;\n",
    "          cacheTtl = addresses[0].ttl * 1000;\n",
    "\n",
    "          console.log('cache updated', { cacheIpAddr, cacheTtl });\n",
    "\n",
    "          // intentionally do not call the callback\n",
    "        });\n",
    "      }\n",
    "\n",
    "      callback(null, address, 4);\n",
    "      return;\n",
    "    }\n",
    "\n",
    "    console.log('calling dns.lookup', { hostname });\n",
    "    dns.lookup(hostname, options, callback);\n",
    "  },\n",
    "});\n",
    "socket.send2 = util.promisify(socket.send);\n",
    "\n",
    "const msg = Buffer.from('foo');\n",
    "\n",
    "await socket.send2(msg, 0, msg.length, 8125, host);\n",
    "console.log('msg 1 sent');\n",
    "await socket.send2(msg, 0, msg.length, 8125, host);\n",
    "console.log('msg 2 sent');\n",
    "await socket.send2(msg, 0, msg.length, 8125, 'example.net');\n",
    "console.log('msg 3 sent');\n",
    "\n",
    "const delay = (ms) => new Promise(resolve => setTimeout(resolve, ms));\n",
    "// note: www.example.com has a _very_ long ttl\n",
    "await delay(cacheTtl);\n",
    "await socket.send2(msg, 0, msg.length, 8125, host);\n",
    "console.log('msg 4 sent');\n",
    "\n",
    "socket.close();"
   ]
  }
 ],
 "metadata": {
  "kernelspec": {
   "display_name": "JavaScript (Node.js)",
   "language": "javascript",
   "name": "javascript"
  },
  "language_info": {
   "name": "javascript"
  },
  "orig_nbformat": 4
 },
 "nbformat": 4,
 "nbformat_minor": 2
}
