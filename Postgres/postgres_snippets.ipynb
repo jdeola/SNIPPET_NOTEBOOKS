{
 "cells": [
  {
   "attachments": {},
   "cell_type": "markdown",
   "metadata": {},
   "source": [
    "# POSTGRES SNIPPETS\n",
    "---"
   ]
  },
  {
   "attachments": {},
   "cell_type": "markdown",
   "metadata": {},
   "source": [
    "## ENUMS\n",
    "\n",
    "### read all enums in database\n",
    "<pre>\n",
    "select n.nspname as enum_schema,  \n",
    "   t.typname as enum_name,  \n",
    "   e.enumlabel as enum_value\n",
    "from pg_type t \n",
    "   join pg_enum e on t.oid = e.enumtypid  \n",
    "   join pg_catalog.pg_namespace n ON n.oid = t.typnamespace;\n",
    "</pre>\n",
    "\n",
    "### read 'myenums'\n",
    "<pre>\n",
    "select enum_range(null::my_enum)\n",
    "-OR-\n",
    "SELECT unnest(enum_range(NULL::myenum))\n",
    "</pre>\n",
    "\n",
    "### rename the value of an enum\n",
    "<pre>\n",
    "ALTER TYPE name RENAME VALUE existing_enum_value TO new_enum_value\n",
    "</pre>\n",
    "\n",
    "### add an enum after a specific enum value\n",
    "<pre>\n",
    "ALTER TYPE name ADD VALUE [ IF NOT EXISTS ] new_enum_value [ { BEFORE | AFTER } neighbor_enum_value ]\n",
    "</pre>\n",
    "\n",
    "### list enums by data type in CLI\n",
    "<pre>\n",
    "\\dT+ channels\n",
    "</pre>\n",
    "\n",
    "---"
   ]
  },
  {
   "cell_type": "markdown",
   "metadata": {},
   "source": []
  }
 ],
 "metadata": {
  "language_info": {
   "name": "python"
  },
  "orig_nbformat": 4
 },
 "nbformat": 4,
 "nbformat_minor": 2
}
