{
 "cells": [
  {
   "attachments": {},
   "cell_type": "markdown",
   "metadata": {},
   "source": [
    "# CSS Snippets"
   ]
  },
  {
   "attachments": {},
   "cell_type": "markdown",
   "metadata": {},
   "source": [
    "### Remove scroll bar\n",
    "\n",
    "Alas, there is no one dedicated CSS rule to hide the scrollbar while keeping the ability to scroll down a page/element. However, this is possible with a few browser-specific CSS rules. To hide the scrollbar and keep scrolling functionality, apply the following CSS to the body (for the entire page) or a specific element."
   ]
  },
  {
   "attachments": {},
   "cell_type": "markdown",
   "metadata": {},
   "source": [
    "/* hide scrollbar but allow scrolling */\n",
    "```\n",
    "element {\n",
    "    -ms-overflow-style: none; /* for Internet Explorer, Edge */\n",
    "    scrollbar-width: none; /* for Firefox */\n",
    "    overflow-y: scroll; \n",
    "}\n",
    "\n",
    "element::-webkit-scrollbar {\n",
    "    display: none; /* for Chrome, Safari, and Opera */\n",
    "}\n",
    "```"
   ]
  },
  {
   "attachments": {},
   "cell_type": "markdown",
   "metadata": {},
   "source": [
    "where element is the selector you want to target. Here’s what this code looks like when applied to the whole page:"
   ]
  },
  {
   "cell_type": "markdown",
   "metadata": {},
   "source": [
    "### Isometric Card\n",
    "https://www.30secondsofcode.org/css/s/isometric-card/\n",
    "\n",
    "HTML\n",
    "\n",
    "```<div class=\"isometric-card\"></div>```\n",
    "\n",
    "CSS\n",
    "```\n",
    ".isometric-card {\n",
    "  margin: 0 auto;\n",
    "  transform: rotateX(51deg) rotateZ(43deg);\n",
    "  transform-style: preserve-3d;\n",
    "  background-color: #fcfcfc;\n",
    "  will-change: transform;\n",
    "  width: 240px;\n",
    "  height: 320px;\n",
    "  border-radius: 2rem;\n",
    "  box-shadow: 1px 1px 0 1px #f9f9fb, -1px 0 28px 0 rgba(34, 33, 81, 0.01),\n",
    "    28px 28px 28px 0 rgba(34, 33, 81, 0.25);\n",
    "  transition: 0.4s ease-in-out transform, 0.3s ease-in-out box-shadow;\n",
    "}\n",
    "\n",
    ".isometric-card:hover {\n",
    "  transform: translate3d(0px, -16px, 0px) rotateX(51deg) rotateZ(43deg);\n",
    "  box-shadow: 1px 1px 0 1px #f9f9fb, -1px 0 28px 0 rgba(34, 33, 81, 0.01),\n",
    "    54px 54px 28px -10px rgba(34, 33, 81, 0.15);\n",
    "}\n",
    "```\n"
   ]
  },
  {
   "cell_type": "markdown",
   "metadata": {},
   "source": [
    "### Rotating Card\n",
    "https://www.30secondsofcode.org/css/s/rotating-card/\n",
    "\n",
    "Creates a two sided card which rotates on hover.\n",
    "\n",
    "- Set the backface-visibility of the cards to none.\n",
    "- Initially, set rotateY() for the back side of the card to -180deg and the front side to 0deg.\n",
    "- Upon hover, set rotateY() for the front side to 180deg and backside to 0deg.\n",
    "Set the appropriate perspective value to create the rotate effect.\n",
    "\n",
    "HTML\n",
    "```\n",
    "<div class=\"card\">\n",
    "  <div class=\"card-side front\">\n",
    "    <div>Front Side</div>\n",
    "  </div>\n",
    "  <div class=\"card-side back\">\n",
    "    <div>Back Side</div>\n",
    "  </div>\n",
    "</div>\n",
    "```\n",
    "\n",
    "CSS\n",
    "```\n",
    ".card {\n",
    "  perspective: 150rem;\n",
    "  position: relative;\n",
    "  height: 40rem;\n",
    "  max-width: 400px;\n",
    "  margin: 2rem;\n",
    "  box-shadow: none;\n",
    "  background: none;\n",
    "}\n",
    "\n",
    ".card-side {\n",
    "  height: 35rem;\n",
    "  border-radius: 15px;\n",
    "  transition: all 0.8s ease;\n",
    "  backface-visibility: hidden;\n",
    "  position: absolute;\n",
    "  top: 0;\n",
    "  left: 0;\n",
    "  width: 80%;\n",
    "  padding: 2rem;\n",
    "  color: white;\n",
    "}\n",
    "\n",
    ".card-side.back {\n",
    "  transform: rotateY(-180deg);\n",
    "  background-color: #4158D0;\n",
    "  background-image: linear-gradient(43deg, #4158D0 0%,#C850C0 46%, #FFCC70 100%);\n",
    "}\n",
    "\n",
    ".card-side.front {\n",
    "  background-color: #0093E9;\n",
    "  background-image: linear-gradient(160deg, #0093E9 0%, #80D0C7 100%);\n",
    "}\n",
    "\n",
    ".card:hover .card-side.front {\n",
    "  transform: rotateY(180deg);\n",
    "}\n",
    "\n",
    ".card:hover .card-side.back {\n",
    "  transform: rotateY(0deg);\n",
    "}\n",
    "```\n"
   ]
  }
 ],
 "metadata": {
  "kernelspec": {
   "display_name": "Python 3",
   "language": "python",
   "name": "python3"
  },
  "language_info": {
   "name": "python",
   "version": "3.11.1 (main, Dec 23 2022, 09:28:24) [Clang 14.0.0 (clang-1400.0.29.202)]"
  },
  "orig_nbformat": 4,
  "vscode": {
   "interpreter": {
    "hash": "5c7b89af1651d0b8571dde13640ecdccf7d5a6204171d6ab33e7c296e100e08a"
   }
  }
 },
 "nbformat": 4,
 "nbformat_minor": 2
}
